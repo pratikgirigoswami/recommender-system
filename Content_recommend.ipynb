{
 "cells": [
  {
   "cell_type": "code",
   "execution_count": 35,
   "metadata": {},
   "outputs": [],
   "source": [
    "import numpy as np\n",
    "from scipy.sparse import rand as sprand\n",
    "import pandas as pd\n",
    "import torch\n",
    "import matplotlib.pyplot as plt"
   ]
  },
  {
   "cell_type": "code",
   "execution_count": 26,
   "metadata": {},
   "outputs": [],
   "source": [
    "columns1 = ['user id', 'movie id','rating', 'Timestamp']\n",
    "df_ratings = pd.read_table('u.data', names=columns1)\n",
    "\n",
    "columns2 = ['movie id', 'movie title', 'release date', 'video release date', 'IMDb URL', 'unknown', 'Action', 'Adventure', 'Animation', 'Childrens', 'Comedy', 'Crime' ,'Documentary', 'Drama', 'Fantasy', 'Film-Noir', 'Horror', 'Musical', 'Mystery', 'Romance', 'Sci-Fi', 'Thriller', 'War', 'Western']\n",
    "df_movie = pd.read_csv('u.item', sep='|', names=columns2, encoding='latin-1')"
   ]
  },
  {
   "cell_type": "code",
   "execution_count": 27,
   "metadata": {},
   "outputs": [
    {
     "data": {
      "text/html": [
       "<div>\n",
       "<style scoped>\n",
       "    .dataframe tbody tr th:only-of-type {\n",
       "        vertical-align: middle;\n",
       "    }\n",
       "\n",
       "    .dataframe tbody tr th {\n",
       "        vertical-align: top;\n",
       "    }\n",
       "\n",
       "    .dataframe thead th {\n",
       "        text-align: right;\n",
       "    }\n",
       "</style>\n",
       "<table border=\"1\" class=\"dataframe\">\n",
       "  <thead>\n",
       "    <tr style=\"text-align: right;\">\n",
       "      <th></th>\n",
       "      <th>movie id</th>\n",
       "      <th>movie title</th>\n",
       "    </tr>\n",
       "  </thead>\n",
       "  <tbody>\n",
       "    <tr>\n",
       "      <th>0</th>\n",
       "      <td>1</td>\n",
       "      <td>Toy Story (1995)</td>\n",
       "    </tr>\n",
       "    <tr>\n",
       "      <th>1</th>\n",
       "      <td>2</td>\n",
       "      <td>GoldenEye (1995)</td>\n",
       "    </tr>\n",
       "    <tr>\n",
       "      <th>2</th>\n",
       "      <td>3</td>\n",
       "      <td>Four Rooms (1995)</td>\n",
       "    </tr>\n",
       "    <tr>\n",
       "      <th>3</th>\n",
       "      <td>4</td>\n",
       "      <td>Get Shorty (1995)</td>\n",
       "    </tr>\n",
       "    <tr>\n",
       "      <th>4</th>\n",
       "      <td>5</td>\n",
       "      <td>Copycat (1995)</td>\n",
       "    </tr>\n",
       "  </tbody>\n",
       "</table>\n",
       "</div>"
      ],
      "text/plain": [
       "   movie id        movie title\n",
       "0         1   Toy Story (1995)\n",
       "1         2   GoldenEye (1995)\n",
       "2         3  Four Rooms (1995)\n",
       "3         4  Get Shorty (1995)\n",
       "4         5     Copycat (1995)"
      ]
     },
     "execution_count": 27,
     "metadata": {},
     "output_type": "execute_result"
    }
   ],
   "source": [
    "movie_dataset = df_movie[['movie id','movie title']]\n",
    "movie_dataset.head()"
   ]
  },
  {
   "cell_type": "code",
   "execution_count": 28,
   "metadata": {},
   "outputs": [
    {
     "data": {
      "text/html": [
       "<div>\n",
       "<style scoped>\n",
       "    .dataframe tbody tr th:only-of-type {\n",
       "        vertical-align: middle;\n",
       "    }\n",
       "\n",
       "    .dataframe tbody tr th {\n",
       "        vertical-align: top;\n",
       "    }\n",
       "\n",
       "    .dataframe thead th {\n",
       "        text-align: right;\n",
       "    }\n",
       "</style>\n",
       "<table border=\"1\" class=\"dataframe\">\n",
       "  <thead>\n",
       "    <tr style=\"text-align: right;\">\n",
       "      <th></th>\n",
       "      <th>user id</th>\n",
       "      <th>movie id</th>\n",
       "      <th>rating</th>\n",
       "      <th>Timestamp</th>\n",
       "      <th>movie title</th>\n",
       "    </tr>\n",
       "  </thead>\n",
       "  <tbody>\n",
       "    <tr>\n",
       "      <th>0</th>\n",
       "      <td>196</td>\n",
       "      <td>242</td>\n",
       "      <td>3</td>\n",
       "      <td>881250949</td>\n",
       "      <td>Kolya (1996)</td>\n",
       "    </tr>\n",
       "    <tr>\n",
       "      <th>1</th>\n",
       "      <td>63</td>\n",
       "      <td>242</td>\n",
       "      <td>3</td>\n",
       "      <td>875747190</td>\n",
       "      <td>Kolya (1996)</td>\n",
       "    </tr>\n",
       "    <tr>\n",
       "      <th>2</th>\n",
       "      <td>226</td>\n",
       "      <td>242</td>\n",
       "      <td>5</td>\n",
       "      <td>883888671</td>\n",
       "      <td>Kolya (1996)</td>\n",
       "    </tr>\n",
       "    <tr>\n",
       "      <th>3</th>\n",
       "      <td>154</td>\n",
       "      <td>242</td>\n",
       "      <td>3</td>\n",
       "      <td>879138235</td>\n",
       "      <td>Kolya (1996)</td>\n",
       "    </tr>\n",
       "    <tr>\n",
       "      <th>4</th>\n",
       "      <td>306</td>\n",
       "      <td>242</td>\n",
       "      <td>5</td>\n",
       "      <td>876503793</td>\n",
       "      <td>Kolya (1996)</td>\n",
       "    </tr>\n",
       "  </tbody>\n",
       "</table>\n",
       "</div>"
      ],
      "text/plain": [
       "   user id  movie id  rating  Timestamp   movie title\n",
       "0      196       242       3  881250949  Kolya (1996)\n",
       "1       63       242       3  875747190  Kolya (1996)\n",
       "2      226       242       5  883888671  Kolya (1996)\n",
       "3      154       242       3  879138235  Kolya (1996)\n",
       "4      306       242       5  876503793  Kolya (1996)"
      ]
     },
     "execution_count": 28,
     "metadata": {},
     "output_type": "execute_result"
    }
   ],
   "source": [
    "merged_dataset = pd.merge(df_ratings, movie_dataset, how='inner', on='movie id')\n",
    "merged_dataset.head()"
   ]
  },
  {
   "cell_type": "code",
   "execution_count": 29,
   "metadata": {},
   "outputs": [
    {
     "data": {
      "text/plain": [
       "(1664, 1682)"
      ]
     },
     "execution_count": 29,
     "metadata": {},
     "output_type": "execute_result"
    }
   ],
   "source": [
    "## looking at length of original items_dataset and length of unique combination of rows in items_dataset after removing movie id column\n",
    "len(df_movie.groupby(by=columns_names[1:])),len(df_movie)"
   ]
  },
  {
   "cell_type": "code",
   "execution_count": 30,
   "metadata": {},
   "outputs": [],
   "source": [
    "columns_names=['movie id',\n",
    " 'movie title',\n",
    " 'release date',\n",
    " 'video release date',\n",
    " 'IMDb URL',\n",
    " 'unknown',\n",
    " 'Action',\n",
    " 'Adventure',\n",
    " 'Animation',\n",
    " 'Childrens',\n",
    " 'Comedy',\n",
    " 'Crime',\n",
    " 'Documentary',\n",
    " 'Drama',\n",
    " 'Fantasy',\n",
    " 'Film-Noir',\n",
    " 'Horror',\n",
    " 'Musical',\n",
    " 'Mystery',\n",
    " 'Romance',\n",
    " 'Sci-Fi',\n",
    " 'Thriller',\n",
    " 'War',\n",
    " 'Western']"
   ]
  },
  {
   "cell_type": "code",
   "execution_count": 31,
   "metadata": {},
   "outputs": [
    {
     "data": {
      "text/html": [
       "<div>\n",
       "<style scoped>\n",
       "    .dataframe tbody tr th:only-of-type {\n",
       "        vertical-align: middle;\n",
       "    }\n",
       "\n",
       "    .dataframe tbody tr th {\n",
       "        vertical-align: top;\n",
       "    }\n",
       "\n",
       "    .dataframe thead th {\n",
       "        text-align: right;\n",
       "    }\n",
       "</style>\n",
       "<table border=\"1\" class=\"dataframe\">\n",
       "  <thead>\n",
       "    <tr style=\"text-align: right;\">\n",
       "      <th></th>\n",
       "      <th>user id</th>\n",
       "      <th>movie id</th>\n",
       "      <th>rating</th>\n",
       "      <th>Timestamp</th>\n",
       "      <th>movie title</th>\n",
       "    </tr>\n",
       "  </thead>\n",
       "  <tbody>\n",
       "    <tr>\n",
       "      <th>4800</th>\n",
       "      <td>894</td>\n",
       "      <td>246</td>\n",
       "      <td>4</td>\n",
       "      <td>882404137</td>\n",
       "      <td>Chasing Amy (1997)</td>\n",
       "    </tr>\n",
       "    <tr>\n",
       "      <th>22340</th>\n",
       "      <td>894</td>\n",
       "      <td>268</td>\n",
       "      <td>3</td>\n",
       "      <td>879896041</td>\n",
       "      <td>Chasing Amy (1997)</td>\n",
       "    </tr>\n",
       "  </tbody>\n",
       "</table>\n",
       "</div>"
      ],
      "text/plain": [
       "       user id  movie id  rating  Timestamp         movie title\n",
       "4800       894       246       4  882404137  Chasing Amy (1997)\n",
       "22340      894       268       3  879896041  Chasing Amy (1997)"
      ]
     },
     "execution_count": 31,
     "metadata": {},
     "output_type": "execute_result"
    }
   ],
   "source": [
    "merged_dataset[(merged_dataset['movie title'] == 'Chasing Amy (1997)') & (merged_dataset['user id'] == 894)]"
   ]
  },
  {
   "cell_type": "code",
   "execution_count": 32,
   "metadata": {},
   "outputs": [
    {
     "data": {
      "text/html": [
       "<div>\n",
       "<style scoped>\n",
       "    .dataframe tbody tr th:only-of-type {\n",
       "        vertical-align: middle;\n",
       "    }\n",
       "\n",
       "    .dataframe tbody tr th {\n",
       "        vertical-align: top;\n",
       "    }\n",
       "\n",
       "    .dataframe thead th {\n",
       "        text-align: right;\n",
       "    }\n",
       "</style>\n",
       "<table border=\"1\" class=\"dataframe\">\n",
       "  <thead>\n",
       "    <tr style=\"text-align: right;\">\n",
       "      <th></th>\n",
       "      <th>user id</th>\n",
       "      <th>movie title</th>\n",
       "      <th>rating</th>\n",
       "    </tr>\n",
       "  </thead>\n",
       "  <tbody>\n",
       "    <tr>\n",
       "      <th>0</th>\n",
       "      <td>1</td>\n",
       "      <td>101 Dalmatians (1996)</td>\n",
       "      <td>2.0</td>\n",
       "    </tr>\n",
       "    <tr>\n",
       "      <th>1</th>\n",
       "      <td>1</td>\n",
       "      <td>12 Angry Men (1957)</td>\n",
       "      <td>5.0</td>\n",
       "    </tr>\n",
       "    <tr>\n",
       "      <th>2</th>\n",
       "      <td>1</td>\n",
       "      <td>20,000 Leagues Under the Sea (1954)</td>\n",
       "      <td>3.0</td>\n",
       "    </tr>\n",
       "    <tr>\n",
       "      <th>3</th>\n",
       "      <td>1</td>\n",
       "      <td>2001: A Space Odyssey (1968)</td>\n",
       "      <td>4.0</td>\n",
       "    </tr>\n",
       "    <tr>\n",
       "      <th>4</th>\n",
       "      <td>1</td>\n",
       "      <td>Abyss, The (1989)</td>\n",
       "      <td>3.0</td>\n",
       "    </tr>\n",
       "  </tbody>\n",
       "</table>\n",
       "</div>"
      ],
      "text/plain": [
       "   user id                          movie title  rating\n",
       "0        1                101 Dalmatians (1996)     2.0\n",
       "1        1                  12 Angry Men (1957)     5.0\n",
       "2        1  20,000 Leagues Under the Sea (1954)     3.0\n",
       "3        1         2001: A Space Odyssey (1968)     4.0\n",
       "4        1                    Abyss, The (1989)     3.0"
      ]
     },
     "execution_count": 32,
     "metadata": {},
     "output_type": "execute_result"
    }
   ],
   "source": [
    "refined_dataset = merged_dataset.groupby(by=['user id','movie title'], as_index=False).agg({\"rating\":\"mean\"})\n",
    "\n",
    "refined_dataset.head()"
   ]
  },
  {
   "cell_type": "markdown",
   "metadata": {},
   "source": [
    "EDA"
   ]
  },
  {
   "cell_type": "code",
   "execution_count": 33,
   "metadata": {},
   "outputs": [
    {
     "name": "stdout",
     "output_type": "stream",
     "text": [
      "Unique number of users in the dataset: 943\n",
      "Unique number of movies in the dataset: 1664\n"
     ]
    }
   ],
   "source": [
    "num_users = len(refined_dataset['user id'].value_counts())\n",
    "num_items = len(refined_dataset['movie title'].value_counts())\n",
    "print('Unique number of users in the dataset: {}'.format(num_users))\n",
    "print('Unique number of movies in the dataset: {}'.format(num_items))"
   ]
  },
  {
   "cell_type": "code",
   "execution_count": 34,
   "metadata": {},
   "outputs": [],
   "source": [
    "rating_count_df = pd.DataFrame(refined_dataset.groupby(['rating']).size(), columns=['count'])"
   ]
  },
  {
   "cell_type": "code",
   "execution_count": 36,
   "metadata": {},
   "outputs": [
    {
     "data": {
      "text/plain": [
       "Text(0, 0.5, 'number of ratings')"
      ]
     },
     "execution_count": 36,
     "metadata": {},
     "output_type": "execute_result"
    },
    {
     "data": {
      "image/png": "[encoded data removed]",
      "text/plain": [
       "<Figure size 864x576 with 1 Axes>"
      ]
     },
     "metadata": {
      "needs_background": "light"
     },
     "output_type": "display_data"
    }
   ],
   "source": [
    "\n",
    "\n",
    "ax = rating_count_df.reset_index().rename(columns={'index': 'rating score'}).plot('rating','count', 'bar',\n",
    "    figsize=(12, 8),\n",
    "    title='Count for Each Rating Score',\n",
    "    fontsize=12)\n",
    "\n",
    "ax.set_xlabel(\"movie rating score\")\n",
    "ax.set_ylabel(\"number of ratings\")"
   ]
  },
  {
   "cell_type": "code",
   "execution_count": 37,
   "metadata": {},
   "outputs": [
    {
     "data": {
      "text/plain": [
       "1469459"
      ]
     },
     "execution_count": 37,
     "metadata": {},
     "output_type": "execute_result"
    }
   ],
   "source": [
    "total_count = num_items * num_users\n",
    "zero_count = total_count-refined_dataset.shape[0]\n",
    "zero_count"
   ]
  },
  {
   "cell_type": "code",
   "execution_count": 38,
   "metadata": {},
   "outputs": [
    {
     "data": {
      "text/html": [
       "<div>\n",
       "<style scoped>\n",
       "    .dataframe tbody tr th:only-of-type {\n",
       "        vertical-align: middle;\n",
       "    }\n",
       "\n",
       "    .dataframe tbody tr th {\n",
       "        vertical-align: top;\n",
       "    }\n",
       "\n",
       "    .dataframe thead th {\n",
       "        text-align: right;\n",
       "    }\n",
       "</style>\n",
       "<table border=\"1\" class=\"dataframe\">\n",
       "  <thead>\n",
       "    <tr style=\"text-align: right;\">\n",
       "      <th></th>\n",
       "      <th>count</th>\n",
       "    </tr>\n",
       "    <tr>\n",
       "      <th>movie title</th>\n",
       "      <th></th>\n",
       "    </tr>\n",
       "  </thead>\n",
       "  <tbody>\n",
       "    <tr>\n",
       "      <th>'Til There Was You (1997)</th>\n",
       "      <td>9</td>\n",
       "    </tr>\n",
       "    <tr>\n",
       "      <th>1-900 (1994)</th>\n",
       "      <td>5</td>\n",
       "    </tr>\n",
       "    <tr>\n",
       "      <th>101 Dalmatians (1996)</th>\n",
       "      <td>109</td>\n",
       "    </tr>\n",
       "    <tr>\n",
       "      <th>12 Angry Men (1957)</th>\n",
       "      <td>125</td>\n",
       "    </tr>\n",
       "    <tr>\n",
       "      <th>187 (1997)</th>\n",
       "      <td>41</td>\n",
       "    </tr>\n",
       "  </tbody>\n",
       "</table>\n",
       "</div>"
      ],
      "text/plain": [
       "                           count\n",
       "movie title                     \n",
       "'Til There Was You (1997)      9\n",
       "1-900 (1994)                   5\n",
       "101 Dalmatians (1996)        109\n",
       "12 Angry Men (1957)          125\n",
       "187 (1997)                    41"
      ]
     },
     "execution_count": 38,
     "metadata": {},
     "output_type": "execute_result"
    }
   ],
   "source": [
    "# get rating frequency\n",
    "movies_count_df = pd.DataFrame(refined_dataset.groupby('movie title').size(), columns=['count'])\n",
    "movies_count_df.head()"
   ]
  },
  {
   "cell_type": "code",
   "execution_count": 39,
   "metadata": {},
   "outputs": [
    {
     "data": {
      "text/plain": [
       "Text(0, 0.5, 'number of ratings')"
      ]
     },
     "execution_count": 39,
     "metadata": {},
     "output_type": "execute_result"
    },
    {
     "data": {
      "image/png": "[encoded data removed]",
      "text/plain": [
       "<Figure size 864x576 with 1 Axes>"
      ]
     },
     "metadata": {
      "needs_background": "light"
     },
     "output_type": "display_data"
    }
   ],
   "source": [
    "# plot rating frequency of all movies\n",
    "ax = movies_count_df \\\n",
    "    .sort_values('count', ascending=False) \\\n",
    "    .reset_index(drop=True) \\\n",
    "    .plot(\n",
    "        figsize=(12, 8),\n",
    "        title='Rating Frequency of All Movies',\n",
    "        fontsize=12\n",
    "    )\n",
    "ax.set_xlabel(\"movie Id\")\n",
    "ax.set_ylabel(\"number of ratings\")"
   ]
  },
  {
   "cell_type": "code",
   "execution_count": 40,
   "metadata": {},
   "outputs": [
    {
     "data": {
      "image/png": "[encoded data removed]",
      "text/plain": [
       "<Figure size 720x432 with 1 Axes>"
      ]
     },
     "metadata": {
      "needs_background": "light"
     },
     "output_type": "display_data"
    }
   ],
   "source": [
    "merged_dataset['rating'].value_counts(sort=False).plot(kind='bar' ,figsize=(10,6), use_index = True, rot=0)\n",
    "plt.title('Bar plot of rating frequency')\n",
    "plt.xlabel('Rating')\n",
    "plt.ylabel('Number of times a rating was given')\n",
    "label = list(merged_dataset['rating'].value_counts(sort=False))\n",
    "r4 = [1,2,3,4,5]\n",
    "for i in range(len(label)):\n",
    "  plt.text(x = r4[i]-1.2 , y = label[i]+500, s = label[i], size =15)"
   ]
  },
  {
   "cell_type": "code",
   "execution_count": 42,
   "metadata": {},
   "outputs": [],
   "source": [
    "avg_highly_rated_movies = merged_dataset.groupby(['movie title']).agg({\"rating\":\"mean\"})['rating'].sort_values(ascending=False)\n",
    "avg_highly_rated_movies = avg_highly_rated_movies.to_frame()"
   ]
  },
  {
   "cell_type": "code",
   "execution_count": 43,
   "metadata": {},
   "outputs": [
    {
     "name": "stdout",
     "output_type": "stream",
     "text": [
      "Number of movies with 5 star rating on average:  10\n",
      "Number of movies with above 4 star and below 5 star rating on average:  163\n",
      "Number of movies with above 3 star and below 4 star rating on average:  871\n",
      "Number of movies with above 2 star and below 3 star rating on average:  492\n",
      "Number of movies with above 1 star and below 2 star rating on average:  128\n",
      "Number of movies with below 1 star rating on average:  0\n"
     ]
    }
   ],
   "source": [
    "print(\"Number of movies with 5 star rating on average: \",len(avg_highly_rated_movies[avg_highly_rated_movies['rating'] == 5.0]))\n",
    "print(\"Number of movies with above 4 star and below 5 star rating on average: \",len(avg_highly_rated_movies[(avg_highly_rated_movies['rating'] >= 4.0) & (avg_highly_rated_movies['rating'] < 5.0)]))\n",
    "print(\"Number of movies with above 3 star and below 4 star rating on average: \",len(avg_highly_rated_movies[(avg_highly_rated_movies['rating'] >= 3.0) & (avg_highly_rated_movies['rating'] < 4.0)]))\n",
    "print(\"Number of movies with above 2 star and below 3 star rating on average: \",len(avg_highly_rated_movies[(avg_highly_rated_movies['rating'] >= 2.0) & (avg_highly_rated_movies['rating'] < 3.0)]))\n",
    "print(\"Number of movies with above 1 star and below 2 star rating on average: \",len(avg_highly_rated_movies[(avg_highly_rated_movies['rating'] >= 1.0) & (avg_highly_rated_movies['rating'] < 2.0)]))\n",
    "print(\"Number of movies with below 1 star rating on average: \", len(avg_highly_rated_movies[(avg_highly_rated_movies['rating'] < 1.0)]))"
   ]
  },
  {
   "cell_type": "code",
   "execution_count": 44,
   "metadata": {},
   "outputs": [
    {
     "name": "stdout",
     "output_type": "stream",
     "text": [
      "Split of movies count based on their overall average rating\n"
     ]
    },
    {
     "data": {
      "image/png": "[encoded data removed]",
      "text/plain": [
       "<Figure size 432x288 with 1 Axes>"
      ]
     },
     "metadata": {},
     "output_type": "display_data"
    }
   ],
   "source": [
    "import matplotlib.pyplot as plt\n",
    "print('Split of movies count based on their overall average rating')\n",
    "# Pie chart, where the slices will be ordered and plotted counter-clockwise:\n",
    "labels = '5 star', '4 to 5 star', '3 to 4 star', '2 to 3 star', '1 to 2 star'\n",
    "sizes = [10, 163, 871, 492, 128]\n",
    "# explode = (0, 0.1, 0, 0)  # only \"explode\" the 2nd slice (i.e. 'Hogs')\n",
    "\n",
    "fig1, ax1 = plt.subplots()\n",
    "ax1.pie(sizes, labels=labels, autopct='%1.1f%%',\n",
    "        shadow=True, startangle=90)\n",
    "ax1.axis('equal')  # Equal aspect ratio ensures that pie is drawn as a circle.\n",
    "\n",
    "plt.show()"
   ]
  },
  {
   "cell_type": "code",
   "execution_count": 45,
   "metadata": {},
   "outputs": [],
   "source": [
    "avg_highly_rated_movies.reset_index(level=0, inplace=True)"
   ]
  },
  {
   "cell_type": "markdown",
   "metadata": {},
   "source": [
    "Content Based Filtering"
   ]
  },
  {
   "cell_type": "markdown",
   "metadata": {},
   "source": [
    "Top 10 Rated Movies"
   ]
  },
  {
   "cell_type": "code",
   "execution_count": 46,
   "metadata": {},
   "outputs": [
    {
     "data": {
      "text/html": [
       "<div>\n",
       "<style scoped>\n",
       "    .dataframe tbody tr th:only-of-type {\n",
       "        vertical-align: middle;\n",
       "    }\n",
       "\n",
       "    .dataframe tbody tr th {\n",
       "        vertical-align: top;\n",
       "    }\n",
       "\n",
       "    .dataframe thead th {\n",
       "        text-align: right;\n",
       "    }\n",
       "</style>\n",
       "<table border=\"1\" class=\"dataframe\">\n",
       "  <thead>\n",
       "    <tr style=\"text-align: right;\">\n",
       "      <th></th>\n",
       "      <th>movie title</th>\n",
       "      <th>avg rating</th>\n",
       "    </tr>\n",
       "  </thead>\n",
       "  <tbody>\n",
       "    <tr>\n",
       "      <th>0</th>\n",
       "      <td>They Made Me a Criminal (1939)</td>\n",
       "      <td>5.0</td>\n",
       "    </tr>\n",
       "    <tr>\n",
       "      <th>1</th>\n",
       "      <td>Marlene Dietrich: Shadow and Light (1996)</td>\n",
       "      <td>5.0</td>\n",
       "    </tr>\n",
       "    <tr>\n",
       "      <th>2</th>\n",
       "      <td>Saint of Fort Washington, The (1993)</td>\n",
       "      <td>5.0</td>\n",
       "    </tr>\n",
       "    <tr>\n",
       "      <th>3</th>\n",
       "      <td>Someone Else's America (1995)</td>\n",
       "      <td>5.0</td>\n",
       "    </tr>\n",
       "    <tr>\n",
       "      <th>4</th>\n",
       "      <td>Star Kid (1997)</td>\n",
       "      <td>5.0</td>\n",
       "    </tr>\n",
       "    <tr>\n",
       "      <th>5</th>\n",
       "      <td>Great Day in Harlem, A (1994)</td>\n",
       "      <td>5.0</td>\n",
       "    </tr>\n",
       "    <tr>\n",
       "      <th>6</th>\n",
       "      <td>Aiqing wansui (1994)</td>\n",
       "      <td>5.0</td>\n",
       "    </tr>\n",
       "    <tr>\n",
       "      <th>7</th>\n",
       "      <td>Santa with Muscles (1996)</td>\n",
       "      <td>5.0</td>\n",
       "    </tr>\n",
       "    <tr>\n",
       "      <th>8</th>\n",
       "      <td>Prefontaine (1997)</td>\n",
       "      <td>5.0</td>\n",
       "    </tr>\n",
       "    <tr>\n",
       "      <th>9</th>\n",
       "      <td>Entertaining Angels: The Dorothy Day Story (1996)</td>\n",
       "      <td>5.0</td>\n",
       "    </tr>\n",
       "  </tbody>\n",
       "</table>\n",
       "</div>"
      ],
      "text/plain": [
       "                                         movie title  avg rating\n",
       "0                     They Made Me a Criminal (1939)         5.0\n",
       "1         Marlene Dietrich: Shadow and Light (1996)          5.0\n",
       "2               Saint of Fort Washington, The (1993)         5.0\n",
       "3                      Someone Else's America (1995)         5.0\n",
       "4                                    Star Kid (1997)         5.0\n",
       "5                      Great Day in Harlem, A (1994)         5.0\n",
       "6                               Aiqing wansui (1994)         5.0\n",
       "7                          Santa with Muscles (1996)         5.0\n",
       "8                                 Prefontaine (1997)         5.0\n",
       "9  Entertaining Angels: The Dorothy Day Story (1996)         5.0"
      ]
     },
     "execution_count": 46,
     "metadata": {},
     "output_type": "execute_result"
    }
   ],
   "source": [
    "avg_highly_rated_movies.columns = ['movie title', 'avg rating']\n",
    "\n",
    "avg_highly_rated_movies.head(10)"
   ]
  },
  {
   "cell_type": "code",
   "execution_count": 47,
   "metadata": {},
   "outputs": [
    {
     "data": {
      "text/plain": [
       "movie title\n",
       "Star Wars (1977)                             2541\n",
       "Fargo (1996)                                 2111\n",
       "Return of the Jedi (1983)                    2032\n",
       "Contact (1997)                               1936\n",
       "Raiders of the Lost Ark (1981)               1786\n",
       "                                             ... \n",
       "T-Men (1947)                                    1\n",
       "JLG/JLG - autoportrait de décembre (1994)       1\n",
       "Careful (1992)                                  1\n",
       "Invitation, The (Zaproszenie) (1986)            1\n",
       "Hedd Wyn (1992)                                 1\n",
       "Name: rating, Length: 1664, dtype: int64"
      ]
     },
     "execution_count": 47,
     "metadata": {},
     "output_type": "execute_result"
    }
   ],
   "source": [
    "merged_dataset.groupby(['movie title']).agg({\"rating\":\"sum\"})['rating'].sort_values(ascending=False)"
   ]
  },
  {
   "cell_type": "code",
   "execution_count": 48,
   "metadata": {},
   "outputs": [
    {
     "data": {
      "text/plain": [
       "Text(0, 0.5, 'Number of times a user watched that movie')"
      ]
     },
     "execution_count": 48,
     "metadata": {},
     "output_type": "execute_result"
    },
    {
     "data": {
      "image/png": "[encoded data removed]",
      "text/plain": [
       "<Figure size 1440x432 with 1 Axes>"
      ]
     },
     "metadata": {
      "needs_background": "light"
     },
     "output_type": "display_data"
    }
   ],
   "source": [
    "merged_dataset['movie id'].value_counts(sort=False).plot(kind='bar' ,figsize=(20,6), use_index = True, rot=0)\n",
    "plt.title('Bar plot of frequency of a movie being watched')\n",
    "plt.xlabel('Movies')\n",
    "plt.ylabel('Number of times a user watched that movie')"
   ]
  },
  {
   "cell_type": "markdown",
   "metadata": {},
   "source": [
    "Recommendations Based on Popular Movies"
   ]
  },
  {
   "cell_type": "code",
   "execution_count": 49,
   "metadata": {},
   "outputs": [],
   "source": [
    "popular_movies = merged_dataset.groupby(['movie title']).agg({\"rating\":\"count\"})['rating'].sort_values(ascending=False)"
   ]
  },
  {
   "cell_type": "code",
   "execution_count": 51,
   "metadata": {},
   "outputs": [],
   "source": [
    "popular_movies = popular_movies.to_frame()\n",
    "popular_movies.reset_index(level=0, inplace=True)\n",
    "popular_movies.columns = ['movie title', 'Number of Users watched']"
   ]
  },
  {
   "cell_type": "code",
   "execution_count": 52,
   "metadata": {},
   "outputs": [
    {
     "name": "stdout",
     "output_type": "stream",
     "text": [
      "Number of popular movies with more than 500 viewers:  4\n",
      "Number of popular movies with more than 400 and less than 500 viewers:  8\n",
      "Number of popular movies with more than 300 and less than 400 viewers:  22\n",
      "Number of popular movies with more than 200 and less than 300 viewers:  84\n",
      "Number of popular movies with more than 100 and less than 200 viewers:  220\n",
      "Number of popular movies with less than 100 viewers:  1326\n"
     ]
    }
   ],
   "source": [
    "print(\"Number of popular movies with more than 500 viewers: \",len(popular_movies[popular_movies['Number of Users watched'] >= 500]))\n",
    "print(\"Number of popular movies with more than 400 and less than 500 viewers: \",len(popular_movies[(popular_movies['Number of Users watched'] >= 400) & (popular_movies['Number of Users watched'] < 500)]))\n",
    "print(\"Number of popular movies with more than 300 and less than 400 viewers: \",len(popular_movies[(popular_movies['Number of Users watched'] >= 300) & (popular_movies['Number of Users watched'] < 400)]))\n",
    "print(\"Number of popular movies with more than 200 and less than 300 viewers: \",len(popular_movies[(popular_movies['Number of Users watched'] >= 200) & (popular_movies['Number of Users watched'] < 300)]))\n",
    "print(\"Number of popular movies with more than 100 and less than 200 viewers: \",len(popular_movies[(popular_movies['Number of Users watched'] >= 100) & (popular_movies['Number of Users watched'] < 200)]))\n",
    "print(\"Number of popular movies with less than 100 viewers: \", len(popular_movies[(popular_movies['Number of Users watched'] < 100)]))"
   ]
  },
  {
   "cell_type": "code",
   "execution_count": 53,
   "metadata": {},
   "outputs": [
    {
     "data": {
      "image/png": "[encoded data removed]",
      "text/plain": [
       "<Figure size 360x360 with 1 Axes>"
      ]
     },
     "metadata": {},
     "output_type": "display_data"
    }
   ],
   "source": [
    "df = pd.DataFrame({'viewers': [4, 8, 22, 84, 220, 1326]},\n",
    "                  index=['500 viewers', '400 to 500 viewers', '300 to 400 viewers', '200 to 300 viewers', '100 to 200 viewers', 'less than 100 viewers'])\n",
    "plot = df.plot.pie(y='viewers', figsize=(5, 5))"
   ]
  },
  {
   "cell_type": "markdown",
   "metadata": {},
   "source": [
    "Most Popular Movies with most Views"
   ]
  },
  {
   "cell_type": "code",
   "execution_count": 54,
   "metadata": {},
   "outputs": [
    {
     "data": {
      "text/html": [
       "<div>\n",
       "<style scoped>\n",
       "    .dataframe tbody tr th:only-of-type {\n",
       "        vertical-align: middle;\n",
       "    }\n",
       "\n",
       "    .dataframe tbody tr th {\n",
       "        vertical-align: top;\n",
       "    }\n",
       "\n",
       "    .dataframe thead th {\n",
       "        text-align: right;\n",
       "    }\n",
       "</style>\n",
       "<table border=\"1\" class=\"dataframe\">\n",
       "  <thead>\n",
       "    <tr style=\"text-align: right;\">\n",
       "      <th></th>\n",
       "      <th>movie title</th>\n",
       "      <th>Number of Users watched</th>\n",
       "    </tr>\n",
       "  </thead>\n",
       "  <tbody>\n",
       "    <tr>\n",
       "      <th>0</th>\n",
       "      <td>Star Wars (1977)</td>\n",
       "      <td>583</td>\n",
       "    </tr>\n",
       "    <tr>\n",
       "      <th>1</th>\n",
       "      <td>Contact (1997)</td>\n",
       "      <td>509</td>\n",
       "    </tr>\n",
       "    <tr>\n",
       "      <th>2</th>\n",
       "      <td>Fargo (1996)</td>\n",
       "      <td>508</td>\n",
       "    </tr>\n",
       "    <tr>\n",
       "      <th>3</th>\n",
       "      <td>Return of the Jedi (1983)</td>\n",
       "      <td>507</td>\n",
       "    </tr>\n",
       "    <tr>\n",
       "      <th>4</th>\n",
       "      <td>Liar Liar (1997)</td>\n",
       "      <td>485</td>\n",
       "    </tr>\n",
       "    <tr>\n",
       "      <th>5</th>\n",
       "      <td>English Patient, The (1996)</td>\n",
       "      <td>481</td>\n",
       "    </tr>\n",
       "    <tr>\n",
       "      <th>6</th>\n",
       "      <td>Scream (1996)</td>\n",
       "      <td>478</td>\n",
       "    </tr>\n",
       "    <tr>\n",
       "      <th>7</th>\n",
       "      <td>Toy Story (1995)</td>\n",
       "      <td>452</td>\n",
       "    </tr>\n",
       "    <tr>\n",
       "      <th>8</th>\n",
       "      <td>Air Force One (1997)</td>\n",
       "      <td>431</td>\n",
       "    </tr>\n",
       "    <tr>\n",
       "      <th>9</th>\n",
       "      <td>Independence Day (ID4) (1996)</td>\n",
       "      <td>429</td>\n",
       "    </tr>\n",
       "    <tr>\n",
       "      <th>10</th>\n",
       "      <td>Raiders of the Lost Ark (1981)</td>\n",
       "      <td>420</td>\n",
       "    </tr>\n",
       "    <tr>\n",
       "      <th>11</th>\n",
       "      <td>Godfather, The (1972)</td>\n",
       "      <td>413</td>\n",
       "    </tr>\n",
       "  </tbody>\n",
       "</table>\n",
       "</div>"
      ],
      "text/plain": [
       "                       movie title  Number of Users watched\n",
       "0                 Star Wars (1977)                      583\n",
       "1                   Contact (1997)                      509\n",
       "2                     Fargo (1996)                      508\n",
       "3        Return of the Jedi (1983)                      507\n",
       "4                 Liar Liar (1997)                      485\n",
       "5      English Patient, The (1996)                      481\n",
       "6                    Scream (1996)                      478\n",
       "7                 Toy Story (1995)                      452\n",
       "8             Air Force One (1997)                      431\n",
       "9    Independence Day (ID4) (1996)                      429\n",
       "10  Raiders of the Lost Ark (1981)                      420\n",
       "11           Godfather, The (1972)                      413"
      ]
     },
     "execution_count": 54,
     "metadata": {},
     "output_type": "execute_result"
    }
   ],
   "source": [
    "popular_movies[popular_movies['Number of Users watched'] >= 400]"
   ]
  },
  {
   "cell_type": "code",
   "execution_count": 55,
   "metadata": {},
   "outputs": [
    {
     "data": {
      "text/html": [
       "<div>\n",
       "<style scoped>\n",
       "    .dataframe tbody tr th:only-of-type {\n",
       "        vertical-align: middle;\n",
       "    }\n",
       "\n",
       "    .dataframe tbody tr th {\n",
       "        vertical-align: top;\n",
       "    }\n",
       "\n",
       "    .dataframe thead th {\n",
       "        text-align: right;\n",
       "    }\n",
       "</style>\n",
       "<table border=\"1\" class=\"dataframe\">\n",
       "  <thead>\n",
       "    <tr style=\"text-align: right;\">\n",
       "      <th></th>\n",
       "      <th>movie title</th>\n",
       "      <th>avg rating</th>\n",
       "      <th>Number of Users watched</th>\n",
       "    </tr>\n",
       "  </thead>\n",
       "  <tbody>\n",
       "    <tr>\n",
       "      <th>0</th>\n",
       "      <td>They Made Me a Criminal (1939)</td>\n",
       "      <td>5.0</td>\n",
       "      <td>1</td>\n",
       "    </tr>\n",
       "    <tr>\n",
       "      <th>1</th>\n",
       "      <td>Marlene Dietrich: Shadow and Light (1996)</td>\n",
       "      <td>5.0</td>\n",
       "      <td>1</td>\n",
       "    </tr>\n",
       "    <tr>\n",
       "      <th>2</th>\n",
       "      <td>Saint of Fort Washington, The (1993)</td>\n",
       "      <td>5.0</td>\n",
       "      <td>2</td>\n",
       "    </tr>\n",
       "    <tr>\n",
       "      <th>3</th>\n",
       "      <td>Someone Else's America (1995)</td>\n",
       "      <td>5.0</td>\n",
       "      <td>1</td>\n",
       "    </tr>\n",
       "    <tr>\n",
       "      <th>4</th>\n",
       "      <td>Star Kid (1997)</td>\n",
       "      <td>5.0</td>\n",
       "      <td>3</td>\n",
       "    </tr>\n",
       "    <tr>\n",
       "      <th>5</th>\n",
       "      <td>Great Day in Harlem, A (1994)</td>\n",
       "      <td>5.0</td>\n",
       "      <td>1</td>\n",
       "    </tr>\n",
       "    <tr>\n",
       "      <th>6</th>\n",
       "      <td>Aiqing wansui (1994)</td>\n",
       "      <td>5.0</td>\n",
       "      <td>1</td>\n",
       "    </tr>\n",
       "    <tr>\n",
       "      <th>7</th>\n",
       "      <td>Santa with Muscles (1996)</td>\n",
       "      <td>5.0</td>\n",
       "      <td>2</td>\n",
       "    </tr>\n",
       "    <tr>\n",
       "      <th>8</th>\n",
       "      <td>Prefontaine (1997)</td>\n",
       "      <td>5.0</td>\n",
       "      <td>3</td>\n",
       "    </tr>\n",
       "    <tr>\n",
       "      <th>9</th>\n",
       "      <td>Entertaining Angels: The Dorothy Day Story (1996)</td>\n",
       "      <td>5.0</td>\n",
       "      <td>1</td>\n",
       "    </tr>\n",
       "  </tbody>\n",
       "</table>\n",
       "</div>"
      ],
      "text/plain": [
       "                                         movie title  avg rating  \\\n",
       "0                     They Made Me a Criminal (1939)         5.0   \n",
       "1         Marlene Dietrich: Shadow and Light (1996)          5.0   \n",
       "2               Saint of Fort Washington, The (1993)         5.0   \n",
       "3                      Someone Else's America (1995)         5.0   \n",
       "4                                    Star Kid (1997)         5.0   \n",
       "5                      Great Day in Harlem, A (1994)         5.0   \n",
       "6                               Aiqing wansui (1994)         5.0   \n",
       "7                          Santa with Muscles (1996)         5.0   \n",
       "8                                 Prefontaine (1997)         5.0   \n",
       "9  Entertaining Angels: The Dorothy Day Story (1996)         5.0   \n",
       "\n",
       "   Number of Users watched  \n",
       "0                        1  \n",
       "1                        1  \n",
       "2                        2  \n",
       "3                        1  \n",
       "4                        3  \n",
       "5                        1  \n",
       "6                        1  \n",
       "7                        2  \n",
       "8                        3  \n",
       "9                        1  "
      ]
     },
     "execution_count": 55,
     "metadata": {},
     "output_type": "execute_result"
    }
   ],
   "source": [
    "highly_rated_popular_movies = pd.merge(avg_highly_rated_movies, popular_movies, how = 'inner', on='movie title')\n",
    "highly_rated_popular_movies.head(10)"
   ]
  },
  {
   "cell_type": "markdown",
   "metadata": {},
   "source": [
    "Recommendations based on Popularity and Views"
   ]
  },
  {
   "cell_type": "code",
   "execution_count": 56,
   "metadata": {},
   "outputs": [
    {
     "data": {
      "text/html": [
       "<div>\n",
       "<style scoped>\n",
       "    .dataframe tbody tr th:only-of-type {\n",
       "        vertical-align: middle;\n",
       "    }\n",
       "\n",
       "    .dataframe tbody tr th {\n",
       "        vertical-align: top;\n",
       "    }\n",
       "\n",
       "    .dataframe thead th {\n",
       "        text-align: right;\n",
       "    }\n",
       "</style>\n",
       "<table border=\"1\" class=\"dataframe\">\n",
       "  <thead>\n",
       "    <tr style=\"text-align: right;\">\n",
       "      <th></th>\n",
       "      <th>movie title</th>\n",
       "      <th>avg rating</th>\n",
       "      <th>Number of Users watched</th>\n",
       "    </tr>\n",
       "  </thead>\n",
       "  <tbody>\n",
       "    <tr>\n",
       "      <th>23</th>\n",
       "      <td>Star Wars (1977)</td>\n",
       "      <td>4.358491</td>\n",
       "      <td>583</td>\n",
       "    </tr>\n",
       "    <tr>\n",
       "      <th>34</th>\n",
       "      <td>Godfather, The (1972)</td>\n",
       "      <td>4.283293</td>\n",
       "      <td>413</td>\n",
       "    </tr>\n",
       "    <tr>\n",
       "      <th>40</th>\n",
       "      <td>Raiders of the Lost Ark (1981)</td>\n",
       "      <td>4.252381</td>\n",
       "      <td>420</td>\n",
       "    </tr>\n",
       "    <tr>\n",
       "      <th>64</th>\n",
       "      <td>Fargo (1996)</td>\n",
       "      <td>4.155512</td>\n",
       "      <td>508</td>\n",
       "    </tr>\n",
       "    <tr>\n",
       "      <th>129</th>\n",
       "      <td>Return of the Jedi (1983)</td>\n",
       "      <td>4.007890</td>\n",
       "      <td>507</td>\n",
       "    </tr>\n",
       "    <tr>\n",
       "      <th>236</th>\n",
       "      <td>Toy Story (1995)</td>\n",
       "      <td>3.878319</td>\n",
       "      <td>452</td>\n",
       "    </tr>\n",
       "    <tr>\n",
       "      <th>292</th>\n",
       "      <td>Contact (1997)</td>\n",
       "      <td>3.803536</td>\n",
       "      <td>509</td>\n",
       "    </tr>\n",
       "    <tr>\n",
       "      <th>412</th>\n",
       "      <td>English Patient, The (1996)</td>\n",
       "      <td>3.656965</td>\n",
       "      <td>481</td>\n",
       "    </tr>\n",
       "    <tr>\n",
       "      <th>428</th>\n",
       "      <td>Air Force One (1997)</td>\n",
       "      <td>3.631090</td>\n",
       "      <td>431</td>\n",
       "    </tr>\n",
       "    <tr>\n",
       "      <th>597</th>\n",
       "      <td>Scream (1996)</td>\n",
       "      <td>3.441423</td>\n",
       "      <td>478</td>\n",
       "    </tr>\n",
       "    <tr>\n",
       "      <th>598</th>\n",
       "      <td>Independence Day (ID4) (1996)</td>\n",
       "      <td>3.438228</td>\n",
       "      <td>429</td>\n",
       "    </tr>\n",
       "    <tr>\n",
       "      <th>837</th>\n",
       "      <td>Liar Liar (1997)</td>\n",
       "      <td>3.156701</td>\n",
       "      <td>485</td>\n",
       "    </tr>\n",
       "  </tbody>\n",
       "</table>\n",
       "</div>"
      ],
      "text/plain": [
       "                        movie title  avg rating  Number of Users watched\n",
       "23                 Star Wars (1977)    4.358491                      583\n",
       "34            Godfather, The (1972)    4.283293                      413\n",
       "40   Raiders of the Lost Ark (1981)    4.252381                      420\n",
       "64                     Fargo (1996)    4.155512                      508\n",
       "129       Return of the Jedi (1983)    4.007890                      507\n",
       "236                Toy Story (1995)    3.878319                      452\n",
       "292                  Contact (1997)    3.803536                      509\n",
       "412     English Patient, The (1996)    3.656965                      481\n",
       "428            Air Force One (1997)    3.631090                      431\n",
       "597                   Scream (1996)    3.441423                      478\n",
       "598   Independence Day (ID4) (1996)    3.438228                      429\n",
       "837                Liar Liar (1997)    3.156701                      485"
      ]
     },
     "execution_count": 56,
     "metadata": {},
     "output_type": "execute_result"
    }
   ],
   "source": [
    "highly_rated_popular_movies[highly_rated_popular_movies['Number of Users watched']>400]"
   ]
  },
  {
   "cell_type": "code",
   "execution_count": 57,
   "metadata": {},
   "outputs": [
    {
     "data": {
      "text/html": [
       "<div>\n",
       "<style scoped>\n",
       "    .dataframe tbody tr th:only-of-type {\n",
       "        vertical-align: middle;\n",
       "    }\n",
       "\n",
       "    .dataframe tbody tr th {\n",
       "        vertical-align: top;\n",
       "    }\n",
       "\n",
       "    .dataframe thead th {\n",
       "        text-align: right;\n",
       "    }\n",
       "</style>\n",
       "<table border=\"1\" class=\"dataframe\">\n",
       "  <thead>\n",
       "    <tr style=\"text-align: right;\">\n",
       "      <th></th>\n",
       "      <th>movie title</th>\n",
       "      <th>avg rating</th>\n",
       "      <th>Number of Users watched</th>\n",
       "    </tr>\n",
       "  </thead>\n",
       "  <tbody>\n",
       "    <tr>\n",
       "      <th>23</th>\n",
       "      <td>Star Wars (1977)</td>\n",
       "      <td>4.358491</td>\n",
       "      <td>583</td>\n",
       "    </tr>\n",
       "    <tr>\n",
       "      <th>32</th>\n",
       "      <td>Silence of the Lambs, The (1991)</td>\n",
       "      <td>4.289744</td>\n",
       "      <td>390</td>\n",
       "    </tr>\n",
       "    <tr>\n",
       "      <th>34</th>\n",
       "      <td>Godfather, The (1972)</td>\n",
       "      <td>4.283293</td>\n",
       "      <td>413</td>\n",
       "    </tr>\n",
       "    <tr>\n",
       "      <th>40</th>\n",
       "      <td>Raiders of the Lost Ark (1981)</td>\n",
       "      <td>4.252381</td>\n",
       "      <td>420</td>\n",
       "    </tr>\n",
       "    <tr>\n",
       "      <th>45</th>\n",
       "      <td>Titanic (1997)</td>\n",
       "      <td>4.245714</td>\n",
       "      <td>350</td>\n",
       "    </tr>\n",
       "    <tr>\n",
       "      <th>49</th>\n",
       "      <td>Empire Strikes Back, The (1980)</td>\n",
       "      <td>4.204360</td>\n",
       "      <td>367</td>\n",
       "    </tr>\n",
       "    <tr>\n",
       "      <th>61</th>\n",
       "      <td>Princess Bride, The (1987)</td>\n",
       "      <td>4.172840</td>\n",
       "      <td>324</td>\n",
       "    </tr>\n",
       "    <tr>\n",
       "      <th>64</th>\n",
       "      <td>Fargo (1996)</td>\n",
       "      <td>4.155512</td>\n",
       "      <td>508</td>\n",
       "    </tr>\n",
       "    <tr>\n",
       "      <th>98</th>\n",
       "      <td>Monty Python and the Holy Grail (1974)</td>\n",
       "      <td>4.066456</td>\n",
       "      <td>316</td>\n",
       "    </tr>\n",
       "    <tr>\n",
       "      <th>101</th>\n",
       "      <td>Pulp Fiction (1994)</td>\n",
       "      <td>4.060914</td>\n",
       "      <td>394</td>\n",
       "    </tr>\n",
       "    <tr>\n",
       "      <th>114</th>\n",
       "      <td>Fugitive, The (1993)</td>\n",
       "      <td>4.044643</td>\n",
       "      <td>336</td>\n",
       "    </tr>\n",
       "    <tr>\n",
       "      <th>129</th>\n",
       "      <td>Return of the Jedi (1983)</td>\n",
       "      <td>4.007890</td>\n",
       "      <td>507</td>\n",
       "    </tr>\n",
       "  </tbody>\n",
       "</table>\n",
       "</div>"
      ],
      "text/plain": [
       "                                movie title  avg rating  \\\n",
       "23                         Star Wars (1977)    4.358491   \n",
       "32         Silence of the Lambs, The (1991)    4.289744   \n",
       "34                    Godfather, The (1972)    4.283293   \n",
       "40           Raiders of the Lost Ark (1981)    4.252381   \n",
       "45                           Titanic (1997)    4.245714   \n",
       "49          Empire Strikes Back, The (1980)    4.204360   \n",
       "61               Princess Bride, The (1987)    4.172840   \n",
       "64                             Fargo (1996)    4.155512   \n",
       "98   Monty Python and the Holy Grail (1974)    4.066456   \n",
       "101                     Pulp Fiction (1994)    4.060914   \n",
       "114                    Fugitive, The (1993)    4.044643   \n",
       "129               Return of the Jedi (1983)    4.007890   \n",
       "\n",
       "     Number of Users watched  \n",
       "23                       583  \n",
       "32                       390  \n",
       "34                       413  \n",
       "40                       420  \n",
       "45                       350  \n",
       "49                       367  \n",
       "61                       324  \n",
       "64                       508  \n",
       "98                       316  \n",
       "101                      394  \n",
       "114                      336  \n",
       "129                      507  "
      ]
     },
     "execution_count": 57,
     "metadata": {},
     "output_type": "execute_result"
    }
   ],
   "source": [
    "highly_rated_popular_movies[(highly_rated_popular_movies['Number of Users watched']>300) & (highly_rated_popular_movies['avg rating']>=4.0)]"
   ]
  },
  {
   "cell_type": "markdown",
   "metadata": {},
   "source": [
    "Recommendations Based on Movie Genre"
   ]
  },
  {
   "cell_type": "code",
   "execution_count": 60,
   "metadata": {},
   "outputs": [
    {
     "data": {
      "text/plain": [
       "['unknown',\n",
       " 'Action',\n",
       " 'Adventure',\n",
       " 'Animation',\n",
       " 'Childrens',\n",
       " 'Comedy',\n",
       " 'Crime',\n",
       " 'Documentary',\n",
       " 'Drama',\n",
       " 'Fantasy',\n",
       " 'Film-Noir',\n",
       " 'Horror',\n",
       " 'Musical',\n",
       " 'Mystery',\n",
       " 'Romance',\n",
       " 'Sci-Fi',\n",
       " 'Thriller',\n",
       " 'War',\n",
       " 'Western']"
      ]
     },
     "execution_count": 60,
     "metadata": {},
     "output_type": "execute_result"
    }
   ],
   "source": [
    "movie_genre_list = columns_names[-19:]\n",
    "movie_genre_list"
   ]
  },
  {
   "cell_type": "code",
   "execution_count": 62,
   "metadata": {},
   "outputs": [
    {
     "data": {
      "image/png": "[encoded data removed]",
      "text/plain": [
       "<Figure size 720x360 with 1 Axes>"
      ]
     },
     "metadata": {
      "needs_background": "light"
     },
     "output_type": "display_data"
    }
   ],
   "source": [
    "count = []\n",
    "for i in movie_genre_list:\n",
    "  # print(i)\n",
    "  genre_based_movies = df_movie[['movie id','movie title',i]]\n",
    "  genre_based_movies = genre_based_movies[genre_based_movies[i] == 1]\n",
    "  count.append(len(genre_based_movies))\n",
    "  # merged_genre_movies = pd.merge(dataset, genre_based_movies, how='inner', on='movie id')\n",
    "  # star_based_visualization(merged_genre_movies)\n",
    "df = pd.DataFrame({'Movie genre':movie_genre_list, 'Number of movies':count})\n",
    "ax = df.plot.bar(x='Movie genre', y='Number of movies', rot=60, figsize=(10, 5))"
   ]
  },
  {
   "cell_type": "markdown",
   "metadata": {},
   "source": [
    "We can see that most of the movies belong to movie genre : Drama followed by Comedy then Action, Romance and Thriller"
   ]
  },
  {
   "cell_type": "code",
   "execution_count": 63,
   "metadata": {},
   "outputs": [],
   "source": [
    "def star_based_visualization(dataframe):\n",
    "  dataframe['rating'].value_counts(sort=False).plot(kind='bar' ,figsize=(10,6), use_index = True, rot=0)\n",
    "  plt.title('Bar plot of rating frequency')\n",
    "  plt.xlabel('Rating')\n",
    "  plt.ylabel('Number of times a rating was given')\n",
    "  # label = list(dataframe['rating'].value_counts(sort=False))\n",
    "  plt.show()\n",
    "  print(\"Total number of users watched this Genre: \",len(dataframe))\n",
    "  print(\"  \")"
   ]
  },
  {
   "cell_type": "code",
   "execution_count": 68,
   "metadata": {},
   "outputs": [],
   "source": [
    "def recommendations_genre(genre):\n",
    "  x = genre\n",
    "  print(\"****************************     ******************************     ******************************\")\n",
    "  print(\"****************************     ****** GENRE: \", x,\" ******     ******************************\")\n",
    "  print(\"    \")\n",
    "  genre_based_movies = df_movie[['movie id','movie title',x]]\n",
    "  genre_based_movies = genre_based_movies[genre_based_movies[x] == 1]\n",
    "  merged_genre_movies = pd.merge(df_ratings, genre_based_movies, how='inner', on='movie id')\n",
    "  # merged_genre_movies.head()\n",
    "\n",
    "  star_based_visualization(merged_genre_movies)\n",
    "  high_rated_movies = merged_genre_movies.groupby(['movie title']).agg({\"rating\":\"mean\"})['rating'].sort_values(ascending=False)\n",
    "  high_rated_movies = high_rated_movies.to_frame()\n",
    "  print(\"These are the top movies that can be naviely suggested to the new users for the requested movie genre:\", x, \". Recommendations based on top average ratings.\")\n",
    "  print(high_rated_movies.head(10))\n",
    "  print(\"****************************     ******************************     ******************************\")\n",
    "  popular_movies_ingenre = merged_genre_movies.groupby(['movie title']).agg({\"rating\":\"count\"})['rating'].sort_values(ascending=False)\n",
    "  popular_movies_ingenre = popular_movies_ingenre.to_frame()\n",
    "  popular_movies_ingenre.reset_index(level=0, inplace=True)\n",
    "  popular_movies_ingenre.columns = ['movie title', 'Number of Users watched']\n",
    "  print(\"These are the most popular movies which can be recommended to a new user in\",x,\"genre. Recommendations based on Popularity\")\n",
    "  print(popular_movies_ingenre.sort_values('Number of Users watched', ascending=False).head(10))\n",
    "  print(\"****************************     ******************************     ******************************\")\n",
    "  highly_rated_popular_movies = pd.merge(high_rated_movies, popular_movies_ingenre, how = 'inner', on='movie title')\n",
    "  # highly_rated_popular_movies.head(10)\n",
    "  viewer_limit = 300\n",
    "  ratings_limit = 4.0\n",
    "  count = 0\n",
    "  check = 0\n",
    "  while viewer_limit > 0 and ratings_limit > 0:\n",
    "    s = highly_rated_popular_movies[(highly_rated_popular_movies['Number of Users watched']>viewer_limit) & (highly_rated_popular_movies['rating']>=ratings_limit)]\n",
    "    if len(s) < 11:\n",
    "      if check == 0:\n",
    "        viewer_limit -= 50\n",
    "        check = 1\n",
    "      else:\n",
    "        ratings_limit -= 0.5\n",
    "        check = 0\n",
    "    else:\n",
    "      break\n",
    "  print(\"These movies are the best to suggest to a new user within their requested genre as they are popular and well rated by the users who already watched them.\")\n",
    "  print(\"These have rating more than \",ratings_limit,\" with atleast \",viewer_limit ,\" viewers.\")\n",
    "\n",
    "  print(\"**Recommendations based popularity and rating. These are top rated popular movies**\")\n",
    "  print(s)\n",
    "  print(\"****************************     ******************************     ******************************\")\n",
    "  print(\"                             \")\n",
    "  print(\"                             \")"
   ]
  },
  {
   "cell_type": "code",
   "execution_count": 69,
   "metadata": {},
   "outputs": [
    {
     "name": "stdout",
     "output_type": "stream",
     "text": [
      "****************************     ******************************     ******************************\n",
      "****************************     ****** GENRE:  Action  ******     ******************************\n",
      "    \n"
     ]
    },
    {
     "data": {
      "image/png": "[encoded data removed]",
      "text/plain": [
       "<Figure size 720x432 with 1 Axes>"
      ]
     },
     "metadata": {
      "needs_background": "light"
     },
     "output_type": "display_data"
    },
    {
     "name": "stdout",
     "output_type": "stream",
     "text": [
      "Total number of users watched this Genre:  25589\n",
      "  \n",
      "These are the top movies that can be naviely suggested to the new users for the requested movie genre: Action . Recommendations based on top average ratings.\n",
      "                                   rating\n",
      "movie title                              \n",
      "Star Wars (1977)                 4.358491\n",
      "Godfather, The (1972)            4.283293\n",
      "Raiders of the Lost Ark (1981)   4.252381\n",
      "Titanic (1997)                   4.245714\n",
      "Empire Strikes Back, The (1980)  4.204360\n",
      "Boot, Das (1981)                 4.203980\n",
      "Godfather: Part II, The (1974)   4.186603\n",
      "African Queen, The (1951)        4.184211\n",
      "Princess Bride, The (1987)       4.172840\n",
      "Braveheart (1995)                4.151515\n",
      "****************************     ******************************     ******************************\n",
      "These are the most popular movies which can be recommended to a new user in Action genre. Recommendations based on Popularity\n",
      "                       movie title  Number of Users watched\n",
      "0                 Star Wars (1977)                      583\n",
      "1        Return of the Jedi (1983)                      507\n",
      "2             Air Force One (1997)                      431\n",
      "3    Independence Day (ID4) (1996)                      429\n",
      "4   Raiders of the Lost Ark (1981)                      420\n",
      "5            Godfather, The (1972)                      413\n",
      "6                 Rock, The (1996)                      378\n",
      "7  Empire Strikes Back, The (1980)                      367\n",
      "8  Star Trek: First Contact (1996)                      365\n",
      "9                   Titanic (1997)                      350\n",
      "****************************     ******************************     ******************************\n",
      "These movies are the best to suggest to a new user within their requested genre as they are popular and well rated by the users who already watched them.\n",
      "These have rating more than  4.0  with atleast  250  viewers.\n",
      "**Recommendations based popularity and rating. These are top rated popular movies**\n",
      "                          movie title    rating  Number of Users watched\n",
      "0                    Star Wars (1977)  4.358491                      583\n",
      "1               Godfather, The (1972)  4.283293                      413\n",
      "2      Raiders of the Lost Ark (1981)  4.252381                      420\n",
      "3                      Titanic (1997)  4.245714                      350\n",
      "4     Empire Strikes Back, The (1980)  4.204360                      367\n",
      "8          Princess Bride, The (1987)  4.172840                      324\n",
      "9                   Braveheart (1995)  4.151515                      297\n",
      "11               Fugitive, The (1993)  4.044643                      336\n",
      "12                       Alien (1979)  4.034364                      291\n",
      "13          Return of the Jedi (1983)  4.007890                      507\n",
      "14  Terminator 2: Judgment Day (1991)  4.006780                      295\n",
      "****************************     ******************************     ******************************\n",
      "                             \n",
      "                             \n",
      "****************************     ******************************     ******************************\n",
      "****************************     ****** GENRE:  Adventure  ******     ******************************\n",
      "    \n"
     ]
    },
    {
     "data": {
      "image/png": "[encoded data removed]",
      "text/plain": [
       "<Figure size 720x432 with 1 Axes>"
      ]
     },
     "metadata": {
      "needs_background": "light"
     },
     "output_type": "display_data"
    },
    {
     "name": "stdout",
     "output_type": "stream",
     "text": [
      "Total number of users watched this Genre:  13753\n",
      "  \n",
      "These are the top movies that can be naviely suggested to the new users for the requested movie genre: Adventure . Recommendations based on top average ratings.\n",
      "                                            rating\n",
      "movie title                                       \n",
      "Star Kid (1997)                           5.000000\n",
      "Star Wars (1977)                          4.358491\n",
      "Raiders of the Lost Ark (1981)            4.252381\n",
      "Lawrence of Arabia (1962)                 4.231214\n",
      "Empire Strikes Back, The (1980)           4.204360\n",
      "African Queen, The (1951)                 4.184211\n",
      "Princess Bride, The (1987)                4.172840\n",
      "Great Escape, The (1963)                  4.104839\n",
      "Treasure of the Sierra Madre, The (1948)  4.100000\n",
      "Wizard of Oz, The (1939)                  4.077236\n",
      "****************************     ******************************     ******************************\n",
      "These are the most popular movies which can be recommended to a new user in Adventure genre. Recommendations based on Popularity\n",
      "                                    movie title  Number of Users watched\n",
      "0                              Star Wars (1977)                      583\n",
      "1                     Return of the Jedi (1983)                      507\n",
      "2                Raiders of the Lost Ark (1981)                      420\n",
      "3                              Rock, The (1996)                      378\n",
      "4               Empire Strikes Back, The (1980)                      367\n",
      "5               Star Trek: First Contact (1996)                      365\n",
      "6                    Mission: Impossible (1996)                      344\n",
      "7     Indiana Jones and the Last Crusade (1989)                      331\n",
      "8  Willy Wonka and the Chocolate Factory (1971)                      326\n",
      "9                    Princess Bride, The (1987)                      324\n",
      "****************************     ******************************     ******************************\n",
      "These movies are the best to suggest to a new user within their requested genre as they are popular and well rated by the users who already watched them.\n",
      "These have rating more than  3.5  with atleast  250  viewers.\n",
      "**Recommendations based popularity and rating. These are top rated popular movies**\n",
      "                                     movie title    rating  \\\n",
      "1                               Star Wars (1977)  4.358491   \n",
      "2                 Raiders of the Lost Ark (1981)  4.252381   \n",
      "4                Empire Strikes Back, The (1980)  4.204360   \n",
      "6                     Princess Bride, The (1987)  4.172840   \n",
      "11                     Return of the Jedi (1983)  4.007890   \n",
      "15     Indiana Jones and the Last Crusade (1989)  3.930514   \n",
      "20                     Dances with Wolves (1990)  3.792969   \n",
      "23                           Men in Black (1997)  3.745875   \n",
      "24                          Jurassic Park (1993)  3.720307   \n",
      "25                              Rock, The (1996)  3.693122   \n",
      "27               Star Trek: First Contact (1996)  3.660274   \n",
      "28  Willy Wonka and the Chocolate Factory (1971)  3.631902   \n",
      "\n",
      "    Number of Users watched  \n",
      "1                       583  \n",
      "2                       420  \n",
      "4                       367  \n",
      "6                       324  \n",
      "11                      507  \n",
      "15                      331  \n",
      "20                      256  \n",
      "23                      303  \n",
      "24                      261  \n",
      "25                      378  \n",
      "27                      365  \n",
      "28                      326  \n",
      "****************************     ******************************     ******************************\n",
      "                             \n",
      "                             \n",
      "****************************     ******************************     ******************************\n",
      "****************************     ****** GENRE:  Animation  ******     ******************************\n",
      "    \n"
     ]
    },
    {
     "data": {
      "image/png": "[encoded data removed]",
      "text/plain": [
       "<Figure size 720x432 with 1 Axes>"
      ]
     },
     "metadata": {
      "needs_background": "light"
     },
     "output_type": "display_data"
    },
    {
     "name": "stdout",
     "output_type": "stream",
     "text": [
      "Total number of users watched this Genre:  3605\n",
      "  \n",
      "These are the top movies that can be naviely suggested to the new users for the requested movie genre: Animation . Recommendations based on top average ratings.\n",
      "                                                      rating\n",
      "movie title                                                 \n",
      "Close Shave, A (1995)                               4.491071\n",
      "Wrong Trousers, The (1993)                          4.466102\n",
      "Wallace & Gromit: The Best of Aardman Animation...  4.447761\n",
      "Faust (1994)                                        4.200000\n",
      "Grand Day Out, A (1992)                             4.106061\n",
      "Toy Story (1995)                                    3.878319\n",
      "Aladdin (1992)                                      3.812785\n",
      "Winnie the Pooh and the Blustery Day (1968)         3.800000\n",
      "Beauty and the Beast (1991)                         3.792079\n",
      "Lion King, The (1994)                               3.781818\n",
      "****************************     ******************************     ******************************\n",
      "These are the most popular movies which can be recommended to a new user in Animation genre. Recommendations based on Popularity\n",
      "                              movie title  Number of Users watched\n",
      "0                        Toy Story (1995)                      452\n",
      "1                   Lion King, The (1994)                      220\n",
      "2                          Aladdin (1992)                      219\n",
      "3             Beauty and the Beast (1991)                      202\n",
      "4                         Fantasia (1940)                      174\n",
      "5  Snow White and the Seven Dwarfs (1937)                      172\n",
      "6  Beavis and Butt-head Do America (1996)                      156\n",
      "7                       Cinderella (1950)                      129\n",
      "8     Hunchback of Notre Dame, The (1996)                      127\n",
      "9        James and the Giant Peach (1996)                      126\n",
      "****************************     ******************************     ******************************\n",
      "These movies are the best to suggest to a new user within their requested genre as they are popular and well rated by the users who already watched them.\n",
      "These have rating more than  2.5  with atleast  100  viewers.\n",
      "**Recommendations based popularity and rating. These are top rated popular movies**\n",
      "                               movie title    rating  Number of Users watched\n",
      "0                    Close Shave, A (1995)  4.491071                      112\n",
      "1               Wrong Trousers, The (1993)  4.466102                      118\n",
      "5                         Toy Story (1995)  3.878319                      452\n",
      "6                           Aladdin (1992)  3.812785                      219\n",
      "8              Beauty and the Beast (1991)  3.792079                      202\n",
      "9                    Lion King, The (1994)  3.781818                      220\n",
      "10                         Fantasia (1940)  3.770115                      174\n",
      "11  Snow White and the Seven Dwarfs (1937)  3.709302                      172\n",
      "12                        Pinocchio (1940)  3.673267                      101\n",
      "15                       Cinderella (1950)  3.581395                      129\n",
      "17                            Dumbo (1941)  3.495935                      123\n",
      "20     Hunchback of Notre Dame, The (1996)  3.377953                      127\n",
      "26        James and the Giant Peach (1996)  3.126984                      126\n",
      "33  Beavis and Butt-head Do America (1996)  2.788462                      156\n",
      "****************************     ******************************     ******************************\n",
      "                             \n",
      "                             \n",
      "****************************     ******************************     ******************************\n",
      "****************************     ****** GENRE:  Childrens  ******     ******************************\n",
      "    \n"
     ]
    },
    {
     "data": {
      "image/png": "[encoded data removed]",
      "text/plain": [
       "<Figure size 720x432 with 1 Axes>"
      ]
     },
     "metadata": {
      "needs_background": "light"
     },
     "output_type": "display_data"
    },
    {
     "name": "stdout",
     "output_type": "stream",
     "text": [
      "Total number of users watched this Genre:  7182\n",
      "  \n",
      "These are the top movies that can be naviely suggested to the new users for the requested movie genre: Childrens . Recommendations based on top average ratings.\n",
      "                                               rating\n",
      "movie title                                          \n",
      "Star Kid (1997)                              5.000000\n",
      "Wizard of Oz, The (1939)                     4.077236\n",
      "Babe (1995)                                  3.995434\n",
      "Toy Story (1995)                             3.878319\n",
      "E.T. the Extra-Terrestrial (1982)            3.833333\n",
      "Aladdin (1992)                               3.812785\n",
      "Winnie the Pooh and the Blustery Day (1968)  3.800000\n",
      "Beauty and the Beast (1991)                  3.792079\n",
      "Lion King, The (1994)                        3.781818\n",
      "Fantasia (1940)                              3.770115\n",
      "****************************     ******************************     ******************************\n",
      "These are the most popular movies which can be recommended to a new user in Childrens genre. Recommendations based on Popularity\n",
      "                                    movie title  Number of Users watched\n",
      "0                              Toy Story (1995)                      452\n",
      "1  Willy Wonka and the Chocolate Factory (1971)                      326\n",
      "2             E.T. the Extra-Terrestrial (1982)                      300\n",
      "3                      Wizard of Oz, The (1939)                      246\n",
      "4                         Lion King, The (1994)                      220\n",
      "5                                Aladdin (1992)                      219\n",
      "6                                   Babe (1995)                      219\n",
      "7                   Beauty and the Beast (1991)                      202\n",
      "8                          Fly Away Home (1996)                      180\n",
      "9                           Mary Poppins (1964)                      178\n",
      "****************************     ******************************     ******************************\n",
      "These movies are the best to suggest to a new user within their requested genre as they are popular and well rated by the users who already watched them.\n",
      "These have rating more than  3.0  with atleast  150  viewers.\n",
      "**Recommendations based popularity and rating. These are top rated popular movies**\n",
      "                                     movie title    rating  \\\n",
      "1                       Wizard of Oz, The (1939)  4.077236   \n",
      "2                                    Babe (1995)  3.995434   \n",
      "3                               Toy Story (1995)  3.878319   \n",
      "4              E.T. the Extra-Terrestrial (1982)  3.833333   \n",
      "5                                 Aladdin (1992)  3.812785   \n",
      "7                    Beauty and the Beast (1991)  3.792079   \n",
      "8                          Lion King, The (1994)  3.781818   \n",
      "9                                Fantasia (1940)  3.770115   \n",
      "10                           Mary Poppins (1964)  3.724719   \n",
      "11        Snow White and the Seven Dwarfs (1937)  3.709302   \n",
      "15  Willy Wonka and the Chocolate Factory (1971)  3.631902   \n",
      "16                          Fly Away Home (1996)  3.600000   \n",
      "\n",
      "    Number of Users watched  \n",
      "1                       246  \n",
      "2                       219  \n",
      "3                       452  \n",
      "4                       300  \n",
      "5                       219  \n",
      "7                       202  \n",
      "8                       220  \n",
      "9                       174  \n",
      "10                      178  \n",
      "11                      172  \n",
      "15                      326  \n",
      "16                      180  \n",
      "****************************     ******************************     ******************************\n",
      "                             \n",
      "                             \n",
      "****************************     ******************************     ******************************\n",
      "****************************     ****** GENRE:  Comedy  ******     ******************************\n",
      "    \n"
     ]
    },
    {
     "data": {
      "image/png": "[encoded data removed]",
      "text/plain": [
       "<Figure size 720x432 with 1 Axes>"
      ]
     },
     "metadata": {
      "needs_background": "light"
     },
     "output_type": "display_data"
    },
    {
     "name": "stdout",
     "output_type": "stream",
     "text": [
      "Total number of users watched this Genre:  29832\n",
      "  \n",
      "These are the top movies that can be naviely suggested to the new users for the requested movie genre: Comedy . Recommendations based on top average ratings.\n",
      "                              rating\n",
      "movie title                         \n",
      "Santa with Muscles (1996)   5.000000\n",
      "Close Shave, A (1995)       4.491071\n",
      "Wrong Trousers, The (1993)  4.466102\n",
      "North by Northwest (1959)   4.284916\n",
      "Shall We Dance? (1996)      4.260870\n",
      "As Good As It Gets (1997)   4.196429\n",
      "Cinema Paradiso (1988)      4.173554\n",
      "Princess Bride, The (1987)  4.172840\n",
      "Waiting for Guffman (1996)  4.127660\n",
      "A Chef in Love (1996)       4.125000\n",
      "****************************     ******************************     ******************************\n",
      "These are the most popular movies which can be recommended to a new user in Comedy genre. Recommendations based on Popularity\n",
      "                                    movie title  Number of Users watched\n",
      "0                              Liar Liar (1997)                      485\n",
      "1                              Toy Story (1995)                      452\n",
      "2                     Back to the Future (1985)                      350\n",
      "3  Willy Wonka and the Chocolate Factory (1971)                      326\n",
      "4                    Princess Bride, The (1987)                      324\n",
      "5                           Forrest Gump (1994)                      321\n",
      "6        Monty Python and the Holy Grail (1974)                      316\n",
      "7                        Full Monty, The (1997)                      315\n",
      "8                           Men in Black (1997)                      303\n",
      "9                          Birdcage, The (1996)                      293\n",
      "****************************     ******************************     ******************************\n",
      "These movies are the best to suggest to a new user within their requested genre as they are popular and well rated by the users who already watched them.\n",
      "These have rating more than  3.5  with atleast  250  viewers.\n",
      "**Recommendations based popularity and rating. These are top rated popular movies**\n",
      "                                      movie title    rating  \\\n",
      "7                      Princess Bride, The (1987)  4.172840   \n",
      "14         Monty Python and the Holy Grail (1974)  4.066456   \n",
      "45                         Full Monty, The (1997)  3.926984   \n",
      "49                 When Harry Met Sally... (1989)  3.910345   \n",
      "55                               Toy Story (1995)  3.878319   \n",
      "58                         Raising Arizona (1987)  3.875000   \n",
      "61                            Forrest Gump (1994)  3.853583   \n",
      "63                     Blues Brothers, The (1980)  3.836653   \n",
      "64                      Back to the Future (1985)  3.834286   \n",
      "79                           Groundhog Day (1993)  3.764286   \n",
      "82                            Men in Black (1997)  3.745875   \n",
      "102            Four Weddings and a Funeral (1994)  3.661355   \n",
      "106  Willy Wonka and the Chocolate Factory (1971)  3.631902   \n",
      "\n",
      "     Number of Users watched  \n",
      "7                        324  \n",
      "14                       316  \n",
      "45                       315  \n",
      "49                       290  \n",
      "55                       452  \n",
      "58                       256  \n",
      "61                       321  \n",
      "63                       251  \n",
      "64                       350  \n",
      "79                       280  \n",
      "82                       303  \n",
      "102                      251  \n",
      "106                      326  \n",
      "****************************     ******************************     ******************************\n",
      "                             \n",
      "                             \n",
      "****************************     ******************************     ******************************\n",
      "****************************     ****** GENRE:  Crime  ******     ******************************\n",
      "    \n"
     ]
    },
    {
     "data": {
      "image/png": "[encoded data removed]",
      "text/plain": [
       "<Figure size 720x432 with 1 Axes>"
      ]
     },
     "metadata": {
      "needs_background": "light"
     },
     "output_type": "display_data"
    },
    {
     "name": "stdout",
     "output_type": "stream",
     "text": [
      "Total number of users watched this Genre:  8055\n",
      "  \n",
      "These are the top movies that can be naviely suggested to the new users for the requested movie genre: Crime . Recommendations based on top average ratings.\n",
      "                                   rating\n",
      "movie title                              \n",
      "They Made Me a Criminal (1939)   5.000000\n",
      "Usual Suspects, The (1995)       4.385768\n",
      "Letter From Death Row, A (1998)  4.333333\n",
      "Godfather, The (1972)            4.283293\n",
      "Crossfire (1947)                 4.250000\n",
      "Godfather: Part II, The (1974)   4.186603\n",
      "L.A. Confidential (1997)         4.161616\n",
      "Fargo (1996)                     4.155512\n",
      "Laura (1944)                     4.100000\n",
      "Once Were Warriors (1994)        4.064516\n",
      "****************************     ******************************     ******************************\n",
      "These are the most popular movies which can be recommended to a new user in Crime genre. Recommendations based on Popularity\n",
      "                      movie title  Number of Users watched\n",
      "0                    Fargo (1996)                      508\n",
      "1           Godfather, The (1972)                      413\n",
      "2             Pulp Fiction (1994)                      394\n",
      "3        L.A. Confidential (1997)                      297\n",
      "4      Usual Suspects, The (1995)                      267\n",
      "5               Sting, The (1973)                      241\n",
      "6            Seven (Se7en) (1995)                      236\n",
      "7               GoodFellas (1990)                      226\n",
      "8                     Heat (1995)                      223\n",
      "9  Godfather: Part II, The (1974)                      209\n",
      "****************************     ******************************     ******************************\n",
      "These movies are the best to suggest to a new user within their requested genre as they are popular and well rated by the users who already watched them.\n",
      "These have rating more than  3.0  with atleast  200  viewers.\n",
      "**Recommendations based popularity and rating. These are top rated popular movies**\n",
      "                       movie title    rating  Number of Users watched\n",
      "1       Usual Suspects, The (1995)  4.385768                      267\n",
      "3            Godfather, The (1972)  4.283293                      413\n",
      "5   Godfather: Part II, The (1974)  4.186603                      209\n",
      "6         L.A. Confidential (1997)  4.161616                      297\n",
      "7                     Fargo (1996)  4.155512                      508\n",
      "10             Pulp Fiction (1994)  4.060914                      394\n",
      "11               Sting, The (1973)  4.058091                      241\n",
      "19               GoodFellas (1990)  3.951327                      226\n",
      "21            Seven (Se7en) (1995)  3.847458                      236\n",
      "31                     Heat (1995)  3.569507                      223\n",
      "40                   Batman (1989)  3.427861                      201\n",
      "****************************     ******************************     ******************************\n",
      "                             \n",
      "                             \n",
      "****************************     ******************************     ******************************\n",
      "****************************     ****** GENRE:  Documentary  ******     ******************************\n",
      "    \n"
     ]
    },
    {
     "data": {
      "image/png": "[encoded data removed]",
      "text/plain": [
       "<Figure size 720x432 with 1 Axes>"
      ]
     },
     "metadata": {
      "needs_background": "light"
     },
     "output_type": "display_data"
    },
    {
     "name": "stdout",
     "output_type": "stream",
     "text": [
      "Total number of users watched this Genre:  758\n",
      "  \n",
      "These are the top movies that can be naviely suggested to the new users for the requested movie genre: Documentary . Recommendations based on top average ratings.\n",
      "                                                      rating\n",
      "movie title                                                 \n",
      "Marlene Dietrich: Shadow and Light (1996)           5.000000\n",
      "Great Day in Harlem, A (1994)                       5.000000\n",
      "Everest (1998)                                      4.500000\n",
      "Maya Lin: A Strong Clear Vision (1994)              4.500000\n",
      "Hoop Dreams (1994)                                  4.094017\n",
      "Paradise Lost: The Child Murders at Robin Hood ...  4.050000\n",
      "When We Were Kings (1996)                           4.045455\n",
      "Nico Icon (1995)                                    4.000000\n",
      "Jupiter's Wife (1994)                               4.000000\n",
      "Perfect Candidate, A (1996)                         4.000000\n",
      "****************************     ******************************     ******************************\n",
      "These are the most popular movies which can be recommended to a new user in Documentary genre. Recommendations based on Popularity\n",
      "                                movie title  Number of Users watched\n",
      "0                        Hoop Dreams (1994)                      117\n",
      "1                              Crumb (1994)                       81\n",
      "2              Celluloid Closet, The (1995)                       56\n",
      "3                Looking for Richard (1996)                       55\n",
      "4                      Koyaanisqatsi (1983)                       53\n",
      "5                 When We Were Kings (1996)                       44\n",
      "6                Thin Blue Line, The (1988)                       35\n",
      "7       Fast, Cheap & Out of Control (1997)                       32\n",
      "8                   Paris Is Burning (1990)                       27\n",
      "9  Microcosmos: Le peuple de l'herbe (1996)                       24\n",
      "****************************     ******************************     ******************************\n",
      "These movies are the best to suggest to a new user within their requested genre as they are popular and well rated by the users who already watched them.\n",
      "These have rating more than  1.5  with atleast  0  viewers.\n",
      "**Recommendations based popularity and rating. These are top rated popular movies**\n",
      "                     movie title    rating  Number of Users watched\n",
      "4             Hoop Dreams (1994)  4.094017                      117\n",
      "13  Celluloid Closet, The (1995)  3.892857                       56\n",
      "16                  Crumb (1994)  3.790123                       81\n",
      "20    Looking for Richard (1996)  3.727273                       55\n",
      "23          Koyaanisqatsi (1983)  3.490566                       53\n",
      "****************************     ******************************     ******************************\n",
      "                             \n",
      "                             \n",
      "****************************     ******************************     ******************************\n",
      "****************************     ****** GENRE:  Drama  ******     ******************************\n",
      "    \n"
     ]
    },
    {
     "data": {
      "image/png": "[encoded data removed]",
      "text/plain": [
       "<Figure size 720x432 with 1 Axes>"
      ]
     },
     "metadata": {
      "needs_background": "light"
     },
     "output_type": "display_data"
    },
    {
     "name": "stdout",
     "output_type": "stream",
     "text": [
      "Total number of users watched this Genre:  39895\n",
      "  \n",
      "These are the top movies that can be naviely suggested to the new users for the requested movie genre: Drama . Recommendations based on top average ratings.\n",
      "                                                     rating\n",
      "movie title                                                \n",
      "Aiqing wansui (1994)                               5.000000\n",
      "Saint of Fort Washington, The (1993)               5.000000\n",
      "Prefontaine (1997)                                 5.000000\n",
      "Entertaining Angels: The Dorothy Day Story (1996)  5.000000\n",
      "They Made Me a Criminal (1939)                     5.000000\n",
      "Someone Else's America (1995)                      5.000000\n",
      "Pather Panchali (1955)                             4.625000\n",
      "Anna (1996)                                        4.500000\n",
      "Some Mother's Son (1996)                           4.500000\n",
      "Schindler's List (1993)                            4.466443\n",
      "****************************     ******************************     ******************************\n",
      "These are the most popular movies which can be recommended to a new user in Drama genre. Recommendations based on Popularity\n",
      "                        movie title  Number of Users watched\n",
      "0                    Contact (1997)                      509\n",
      "1                      Fargo (1996)                      508\n",
      "2       English Patient, The (1996)                      481\n",
      "3             Godfather, The (1972)                      413\n",
      "4               Pulp Fiction (1994)                      394\n",
      "5             Twelve Monkeys (1995)                      392\n",
      "6  Silence of the Lambs, The (1991)                      390\n",
      "7              Jerry Maguire (1996)                      384\n",
      "8                Chasing Amy (1997)                      379\n",
      "9   Empire Strikes Back, The (1980)                      367\n",
      "****************************     ******************************     ******************************\n",
      "These movies are the best to suggest to a new user within their requested genre as they are popular and well rated by the users who already watched them.\n",
      "These have rating more than  4.0  with atleast  250  viewers.\n",
      "**Recommendations based popularity and rating. These are top rated popular movies**\n",
      "                               movie title    rating  Number of Users watched\n",
      "9                  Schindler's List (1993)  4.466443                      298\n",
      "11        Shawshank Redemption, The (1994)  4.445230                      283\n",
      "18  One Flew Over the Cuckoo's Nest (1975)  4.291667                      264\n",
      "19        Silence of the Lambs, The (1991)  4.289744                      390\n",
      "20                   Godfather, The (1972)  4.283293                      413\n",
      "24                          Titanic (1997)  4.245714                      350\n",
      "26         Empire Strikes Back, The (1980)  4.204360                      367\n",
      "34                          Amadeus (1984)  4.163043                      276\n",
      "35                            Fargo (1996)  4.155512                      508\n",
      "37                       Braveheart (1995)  4.151515                      297\n",
      "54                     Pulp Fiction (1994)  4.060914                      394\n",
      "63            Sense and Sensibility (1995)  4.011194                      268\n",
      "****************************     ******************************     ******************************\n",
      "                             \n",
      "                             \n",
      "****************************     ******************************     ******************************\n",
      "****************************     ****** GENRE:  Fantasy  ******     ******************************\n",
      "    \n"
     ]
    },
    {
     "data": {
      "image/png": "[encoded data removed]",
      "text/plain": [
       "<Figure size 720x432 with 1 Axes>"
      ]
     },
     "metadata": {
      "needs_background": "light"
     },
     "output_type": "display_data"
    },
    {
     "name": "stdout",
     "output_type": "stream",
     "text": [
      "Total number of users watched this Genre:  1352\n",
      "  \n",
      "These are the top movies that can be naviely suggested to the new users for the requested movie genre: Fantasy . Recommendations based on top average ratings.\n",
      "                                       rating\n",
      "movie title                                  \n",
      "Star Kid (1997)                      5.000000\n",
      "E.T. the Extra-Terrestrial (1982)    3.833333\n",
      "Heavenly Creatures (1994)            3.671429\n",
      "20,000 Leagues Under the Sea (1954)  3.500000\n",
      "Jumanji (1995)                       3.312500\n",
      "Mask, The (1994)                     3.193798\n",
      "Dragonheart (1996)                   3.082278\n",
      "Warriors of Virtue (1997)            3.000000\n",
      "FairyTale: A True Story (1997)       2.966667\n",
      "Escape to Witch Mountain (1975)      2.966667\n",
      "****************************     ******************************     ******************************\n",
      "These are the most popular movies which can be recommended to a new user in Fantasy genre. Recommendations based on Popularity\n",
      "                           movie title  Number of Users watched\n",
      "0    E.T. the Extra-Terrestrial (1982)                      300\n",
      "1          Nutty Professor, The (1996)                      163\n",
      "2                   Dragonheart (1996)                      158\n",
      "3                     Mask, The (1994)                      129\n",
      "4                       Jumanji (1995)                       96\n",
      "5                     Space Jam (1996)                       93\n",
      "6  20,000 Leagues Under the Sea (1954)                       72\n",
      "7            Heavenly Creatures (1994)                       70\n",
      "8                       Flubber (1997)                       53\n",
      "9   Indian in the Cupboard, The (1995)                       39\n",
      "****************************     ******************************     ******************************\n",
      "These movies are the best to suggest to a new user within their requested genre as they are popular and well rated by the users who already watched them.\n",
      "These have rating more than  1.5  with atleast  0  viewers.\n",
      "**Recommendations based popularity and rating. These are top rated popular movies**\n",
      "                            movie title    rating  Number of Users watched\n",
      "1     E.T. the Extra-Terrestrial (1982)  3.833333                      300\n",
      "2             Heavenly Creatures (1994)  3.671429                       70\n",
      "3   20,000 Leagues Under the Sea (1954)  3.500000                       72\n",
      "4                        Jumanji (1995)  3.312500                       96\n",
      "5                      Mask, The (1994)  3.193798                      129\n",
      "6                    Dragonheart (1996)  3.082278                      158\n",
      "10          Nutty Professor, The (1996)  2.914110                      163\n",
      "12                     Space Jam (1996)  2.774194                       93\n",
      "13                       Flubber (1997)  2.754717                       53\n",
      "****************************     ******************************     ******************************\n",
      "                             \n",
      "                             \n",
      "****************************     ******************************     ******************************\n",
      "****************************     ****** GENRE:  Film-Noir  ******     ******************************\n",
      "    \n"
     ]
    },
    {
     "data": {
      "image/png": "[encoded data removed]",
      "text/plain": [
       "<Figure size 720x432 with 1 Axes>"
      ]
     },
     "metadata": {
      "needs_background": "light"
     },
     "output_type": "display_data"
    },
    {
     "name": "stdout",
     "output_type": "stream",
     "text": [
      "Total number of users watched this Genre:  1733\n",
      "  \n",
      "These are the top movies that can be naviely suggested to the new users for the requested movie genre: Film-Noir . Recommendations based on top average ratings.\n",
      "                                    rating\n",
      "movie title                               \n",
      "Manchurian Candidate, The (1962)  4.259542\n",
      "Crossfire (1947)                  4.250000\n",
      "Maltese Falcon, The (1941)        4.210145\n",
      "Sunset Blvd. (1950)               4.200000\n",
      "L.A. Confidential (1997)          4.161616\n",
      "Blade Runner (1982)               4.138182\n",
      "Chinatown (1974)                  4.136054\n",
      "Notorious (1946)                  4.115385\n",
      "Laura (1944)                      4.100000\n",
      "Big Sleep, The (1946)             4.027397\n",
      "****************************     ******************************     ******************************\n",
      "These are the most popular movies which can be recommended to a new user in Film-Noir genre. Recommendations based on Popularity\n",
      "                        movie title  Number of Users watched\n",
      "0          L.A. Confidential (1997)                      297\n",
      "1               Blade Runner (1982)                      275\n",
      "2                  Chinatown (1974)                      147\n",
      "3        Maltese Falcon, The (1941)                      138\n",
      "4  Manchurian Candidate, The (1962)                      131\n",
      "5              Grifters, The (1990)                       89\n",
      "6                  Cape Fear (1962)                       86\n",
      "7           Mulholland Falls (1996)                       82\n",
      "8             Big Sleep, The (1946)                       73\n",
      "9                    Hoodlum (1997)                       73\n",
      "****************************     ******************************     ******************************\n",
      "These movies are the best to suggest to a new user within their requested genre as they are popular and well rated by the users who already watched them.\n",
      "These have rating more than  2.0  with atleast  50  viewers.\n",
      "**Recommendations based popularity and rating. These are top rated popular movies**\n",
      "                         movie title    rating  Number of Users watched\n",
      "0   Manchurian Candidate, The (1962)  4.259542                      131\n",
      "2         Maltese Falcon, The (1941)  4.210145                      138\n",
      "3                Sunset Blvd. (1950)  4.200000                       65\n",
      "4           L.A. Confidential (1997)  4.161616                      297\n",
      "5                Blade Runner (1982)  4.138182                      275\n",
      "6                   Chinatown (1974)  4.136054                      147\n",
      "7                   Notorious (1946)  4.115385                       52\n",
      "9              Big Sleep, The (1946)  4.027397                       73\n",
      "14                  Cape Fear (1962)  3.523256                       86\n",
      "16              Grifters, The (1990)  3.483146                       89\n",
      "17      Devil in a Blue Dress (1995)  3.385965                       57\n",
      "19                    Hoodlum (1997)  2.931507                       73\n",
      "20           Mulholland Falls (1996)  2.878049                       82\n",
      "****************************     ******************************     ******************************\n",
      "                             \n",
      "                             \n",
      "****************************     ******************************     ******************************\n",
      "****************************     ****** GENRE:  Horror  ******     ******************************\n",
      "    \n"
     ]
    },
    {
     "data": {
      "image/png": "[encoded data removed]",
      "text/plain": [
       "<Figure size 720x432 with 1 Axes>"
      ]
     },
     "metadata": {
      "needs_background": "light"
     },
     "output_type": "display_data"
    },
    {
     "name": "stdout",
     "output_type": "stream",
     "text": [
      "Total number of users watched this Genre:  5317\n",
      "  \n",
      "These are the top movies that can be naviely suggested to the new users for the requested movie genre: Horror . Recommendations based on top average ratings.\n",
      "                                                      rating\n",
      "movie title                                                 \n",
      "Psycho (1960)                                       4.100418\n",
      "Alien (1979)                                        4.034364\n",
      "Young Frankenstein (1974)                           3.945000\n",
      "Braindead (1992)                                    3.857143\n",
      "Shining, The (1980)                                 3.825243\n",
      "Birds, The (1963)                                   3.808642\n",
      "Jaws (1975)                                         3.775000\n",
      "Night Flier (1997)                                  3.714286\n",
      "Bride of Frankenstein (1935)                        3.608696\n",
      "Nosferatu (Nosferatu, eine Symphonie des Grauen...  3.555556\n",
      "****************************     ******************************     ******************************\n",
      "These are the most popular movies which can be recommended to a new user in Horror genre. Recommendations based on Popularity\n",
      "                         movie title  Number of Users watched\n",
      "0                      Scream (1996)                      478\n",
      "1                       Alien (1979)                      291\n",
      "2                        Jaws (1975)                      280\n",
      "3                      Psycho (1960)                      239\n",
      "4                Shining, The (1980)                      206\n",
      "5          Young Frankenstein (1974)                      200\n",
      "6       Devil's Advocate, The (1997)                      188\n",
      "7                  Birds, The (1963)                      162\n",
      "8  Interview with the Vampire (1994)                      137\n",
      "9         Alien: Resurrection (1997)                      124\n",
      "****************************     ******************************     ******************************\n",
      "These movies are the best to suggest to a new user within their requested genre as they are popular and well rated by the users who already watched them.\n",
      "These have rating more than  2.5  with atleast  100  viewers.\n",
      "**Recommendations based popularity and rating. These are top rated popular movies**\n",
      "                          movie title    rating  Number of Users watched\n",
      "0                       Psycho (1960)  4.100418                      239\n",
      "1                        Alien (1979)  4.034364                      291\n",
      "2           Young Frankenstein (1974)  3.945000                      200\n",
      "4                 Shining, The (1980)  3.825243                      206\n",
      "5                   Birds, The (1963)  3.808642                      162\n",
      "6                         Jaws (1975)  3.775000                      280\n",
      "12       Devil's Advocate, The (1997)  3.515957                      188\n",
      "13                      Carrie (1976)  3.504132                      121\n",
      "15                      Scream (1996)  3.441423                      478\n",
      "16            Army of Darkness (1993)  3.431034                      116\n",
      "21            Frighteners, The (1996)  3.234783                      115\n",
      "22                    Scream 2 (1997)  3.216981                      106\n",
      "24  Interview with the Vampire (1994)  3.182482                      137\n",
      "25  Nightmare on Elm Street, A (1984)  3.171171                      111\n",
      "26       Bram Stoker's Dracula (1992)  3.158333                      120\n",
      "28                  Craft, The (1996)  3.115385                      104\n",
      "29         Alien: Resurrection (1997)  3.096774                      124\n",
      "****************************     ******************************     ******************************\n",
      "                             \n",
      "                             \n",
      "****************************     ******************************     ******************************\n",
      "****************************     ****** GENRE:  Musical  ******     ******************************\n",
      "    \n"
     ]
    },
    {
     "data": {
      "image/png": "[encoded data removed]",
      "text/plain": [
       "<Figure size 720x432 with 1 Axes>"
      ]
     },
     "metadata": {
      "needs_background": "light"
     },
     "output_type": "display_data"
    },
    {
     "name": "stdout",
     "output_type": "stream",
     "text": [
      "Total number of users watched this Genre:  4954\n",
      "  \n",
      "These are the top movies that can be naviely suggested to the new users for the requested movie genre: Musical . Recommendations based on top average ratings.\n",
      "                                rating\n",
      "movie title                           \n",
      "Wizard of Oz, The (1939)      4.077236\n",
      "Top Hat (1935)                4.047619\n",
      "Damsel in Distress, A (1937)  4.000000\n",
      "Singin' in the Rain (1952)    3.992701\n",
      "This Is Spinal Tap (1984)     3.905759\n",
      "Gay Divorcee, The (1934)      3.866667\n",
      "Blues Brothers, The (1980)    3.836653\n",
      "My Fair Lady (1964)           3.816000\n",
      "Aladdin (1992)                3.812785\n",
      "Beauty and the Beast (1991)   3.792079\n",
      "****************************     ******************************     ******************************\n",
      "These are the most popular movies which can be recommended to a new user in Musical genre. Recommendations based on Popularity\n",
      "                   movie title  Number of Users watched\n",
      "0                 Evita (1996)                      259\n",
      "1   Blues Brothers, The (1980)                      251\n",
      "2     Wizard of Oz, The (1939)                      246\n",
      "3   Sound of Music, The (1965)                      222\n",
      "4        Lion King, The (1994)                      220\n",
      "5               Aladdin (1992)                      219\n",
      "6  Beauty and the Beast (1991)                      202\n",
      "7    This Is Spinal Tap (1984)                      191\n",
      "8          Mary Poppins (1964)                      178\n",
      "9              Fantasia (1940)                      174\n",
      "****************************     ******************************     ******************************\n",
      "These movies are the best to suggest to a new user within their requested genre as they are popular and well rated by the users who already watched them.\n",
      "These have rating more than  3.0  with atleast  150  viewers.\n",
      "**Recommendations based popularity and rating. These are top rated popular movies**\n",
      "                               movie title    rating  Number of Users watched\n",
      "0                 Wizard of Oz, The (1939)  4.077236                      246\n",
      "4                This Is Spinal Tap (1984)  3.905759                      191\n",
      "6               Blues Brothers, The (1980)  3.836653                      251\n",
      "8                           Aladdin (1992)  3.812785                      219\n",
      "9              Beauty and the Beast (1991)  3.792079                      202\n",
      "10                   Lion King, The (1994)  3.781818                      220\n",
      "11                         Fantasia (1940)  3.770115                      174\n",
      "12              Sound of Music, The (1965)  3.765766                      222\n",
      "14                     Mary Poppins (1964)  3.724719                      178\n",
      "16  Snow White and the Seven Dwarfs (1937)  3.709302                      172\n",
      "35                           Grease (1978)  3.347059                      170\n",
      "38         Everyone Says I Love You (1996)  3.273810                      168\n",
      "****************************     ******************************     ******************************\n",
      "                             \n",
      "                             \n",
      "****************************     ******************************     ******************************\n",
      "****************************     ****** GENRE:  Mystery  ******     ******************************\n",
      "    \n"
     ]
    },
    {
     "data": {
      "image/png": "[encoded data removed]",
      "text/plain": [
       "<Figure size 720x432 with 1 Axes>"
      ]
     },
     "metadata": {
      "needs_background": "light"
     },
     "output_type": "display_data"
    },
    {
     "name": "stdout",
     "output_type": "stream",
     "text": [
      "Total number of users watched this Genre:  5245\n",
      "  \n",
      "These are the top movies that can be naviely suggested to the new users for the requested movie genre: Mystery . Recommendations based on top average ratings.\n",
      "                               rating\n",
      "movie title                          \n",
      "Rear Window (1954)           4.387560\n",
      "Third Man, The (1949)        4.333333\n",
      "Vertigo (1958)               4.251397\n",
      "Maltese Falcon, The (1941)   4.210145\n",
      "Amadeus (1984)               4.163043\n",
      "L.A. Confidential (1997)     4.161616\n",
      "Thin Man, The (1934)         4.150000\n",
      "Chinatown (1974)             4.136054\n",
      "Laura (1944)                 4.100000\n",
      "Arsenic and Old Lace (1944)  4.078261\n",
      "****************************     ******************************     ******************************\n",
      "These are the most popular movies which can be recommended to a new user in Mystery genre. Recommendations based on Popularity\n",
      "                    movie title  Number of Users watched\n",
      "0    Mission: Impossible (1996)                      344\n",
      "1      L.A. Confidential (1997)                      297\n",
      "2      Conspiracy Theory (1997)                      295\n",
      "3                Amadeus (1984)                      276\n",
      "4  2001: A Space Odyssey (1968)                      259\n",
      "5              Game, The (1997)                      251\n",
      "6         Murder at 1600 (1997)                      218\n",
      "7            Rear Window (1954)                      209\n",
      "8  Devil's Advocate, The (1997)                      188\n",
      "9              Lone Star (1996)                      187\n",
      "****************************     ******************************     ******************************\n",
      "These movies are the best to suggest to a new user within their requested genre as they are popular and well rated by the users who already watched them.\n",
      "These have rating more than  3.0  with atleast  150  viewers.\n",
      "**Recommendations based popularity and rating. These are top rated popular movies**\n",
      "                     movie title    rating  Number of Users watched\n",
      "0             Rear Window (1954)  4.387560                      209\n",
      "2                 Vertigo (1958)  4.251397                      179\n",
      "4                 Amadeus (1984)  4.163043                      276\n",
      "5       L.A. Confidential (1997)  4.161616                      297\n",
      "10              Lone Star (1996)  4.053476                      187\n",
      "14  2001: A Space Odyssey (1968)  3.969112                      259\n",
      "23              Game, The (1997)  3.593625                      251\n",
      "27  Devil's Advocate, The (1997)  3.515957                      188\n",
      "28      Conspiracy Theory (1997)  3.423729                      295\n",
      "31               Cop Land (1997)  3.377143                      175\n",
      "36    Mission: Impossible (1996)  3.313953                      344\n",
      "43         Murder at 1600 (1997)  3.087156                      218\n",
      "****************************     ******************************     ******************************\n",
      "                             \n",
      "                             \n",
      "****************************     ******************************     ******************************\n",
      "****************************     ****** GENRE:  Romance  ******     ******************************\n",
      "    \n"
     ]
    },
    {
     "data": {
      "image/png": "[encoded data removed]",
      "text/plain": [
       "<Figure size 720x432 with 1 Axes>"
      ]
     },
     "metadata": {
      "needs_background": "light"
     },
     "output_type": "display_data"
    },
    {
     "name": "stdout",
     "output_type": "stream",
     "text": [
      "Total number of users watched this Genre:  19461\n",
      "  \n",
      "These are the top movies that can be naviely suggested to the new users for the requested movie genre: Romance . Recommendations based on top average ratings.\n",
      "                                   rating\n",
      "movie title                              \n",
      "Casablanca (1942)                4.456790\n",
      "Star Wars (1977)                 4.358491\n",
      "Titanic (1997)                   4.245714\n",
      "Empire Strikes Back, The (1980)  4.204360\n",
      "Affair to Remember, An (1957)    4.192308\n",
      "African Queen, The (1951)        4.184211\n",
      "Cinema Paradiso (1988)           4.173554\n",
      "Princess Bride, The (1987)       4.172840\n",
      "Notorious (1946)                 4.115385\n",
      "Philadelphia Story, The (1940)   4.115385\n",
      "****************************     ******************************     ******************************\n",
      "These are the most popular movies which can be recommended to a new user in Romance genre. Recommendations based on Popularity\n",
      "                       movie title  Number of Users watched\n",
      "0                 Star Wars (1977)                      583\n",
      "1        Return of the Jedi (1983)                      507\n",
      "2      English Patient, The (1996)                      481\n",
      "3             Jerry Maguire (1996)                      384\n",
      "4               Chasing Amy (1997)                      379\n",
      "5  Empire Strikes Back, The (1980)                      367\n",
      "6                   Titanic (1997)                      350\n",
      "7       Princess Bride, The (1987)                      324\n",
      "8              Forrest Gump (1994)                      321\n",
      "9                Saint, The (1997)                      316\n",
      "****************************     ******************************     ******************************\n",
      "These movies are the best to suggest to a new user within their requested genre as they are popular and well rated by the users who already watched them.\n",
      "These have rating more than  3.5  with atleast  250  viewers.\n",
      "**Recommendations based popularity and rating. These are top rated popular movies**\n",
      "                           movie title    rating  Number of Users watched\n",
      "1                     Star Wars (1977)  4.358491                      583\n",
      "2                       Titanic (1997)  4.245714                      350\n",
      "3      Empire Strikes Back, The (1980)  4.204360                      367\n",
      "7           Princess Bride, The (1987)  4.172840                      324\n",
      "19        Sense and Sensibility (1995)  4.011194                      268\n",
      "20           Return of the Jedi (1983)  4.007890                      507\n",
      "40      When Harry Met Sally... (1989)  3.910345                      290\n",
      "44                 Forrest Gump (1994)  3.853583                      321\n",
      "45                  Chasing Amy (1997)  3.839050                      379\n",
      "54                Groundhog Day (1993)  3.764286                      280\n",
      "60                Jerry Maguire (1996)  3.710938                      384\n",
      "64            Leaving Las Vegas (1995)  3.697987                      298\n",
      "67  Four Weddings and a Funeral (1994)  3.661355                      251\n",
      "69         English Patient, The (1996)  3.656965                      481\n",
      "****************************     ******************************     ******************************\n",
      "                             \n",
      "                             \n",
      "****************************     ******************************     ******************************\n",
      "****************************     ****** GENRE:  Sci-Fi  ******     ******************************\n",
      "    \n"
     ]
    },
    {
     "data": {
      "image/png": "[encoded data removed]",
      "text/plain": [
       "<Figure size 720x432 with 1 Axes>"
      ]
     },
     "metadata": {
      "needs_background": "light"
     },
     "output_type": "display_data"
    },
    {
     "name": "stdout",
     "output_type": "stream",
     "text": [
      "Total number of users watched this Genre:  12730\n",
      "  \n",
      "These are the top movies that can be naviely suggested to the new users for the requested movie genre: Sci-Fi . Recommendations based on top average ratings.\n",
      "                                                      rating\n",
      "movie title                                                 \n",
      "Star Kid (1997)                                     5.000000\n",
      "Star Wars (1977)                                    4.358491\n",
      "Dr. Strangelove or: How I Learned to Stop Worry...  4.252577\n",
      "Empire Strikes Back, The (1980)                     4.204360\n",
      "Blade Runner (1982)                                 4.138182\n",
      "Alien (1979)                                        4.034364\n",
      "Return of the Jedi (1983)                           4.007890\n",
      "Terminator 2: Judgment Day (1991)                   4.006780\n",
      "2001: A Space Odyssey (1968)                        3.969112\n",
      "Aliens (1986)                                       3.947183\n",
      "****************************     ******************************     ******************************\n",
      "These are the most popular movies which can be recommended to a new user in Sci-Fi genre. Recommendations based on Popularity\n",
      "                       movie title  Number of Users watched\n",
      "0                 Star Wars (1977)                      583\n",
      "1                   Contact (1997)                      509\n",
      "2        Return of the Jedi (1983)                      507\n",
      "3    Independence Day (ID4) (1996)                      429\n",
      "4            Twelve Monkeys (1995)                      392\n",
      "5  Empire Strikes Back, The (1980)                      367\n",
      "6  Star Trek: First Contact (1996)                      365\n",
      "7        Back to the Future (1985)                      350\n",
      "8              Men in Black (1997)                      303\n",
      "9           Terminator, The (1984)                      301\n",
      "****************************     ******************************     ******************************\n",
      "These movies are the best to suggest to a new user within their requested genre as they are popular and well rated by the users who already watched them.\n",
      "These have rating more than  3.5  with atleast  250  viewers.\n",
      "**Recommendations based popularity and rating. These are top rated popular movies**\n",
      "                          movie title    rating  Number of Users watched\n",
      "1                    Star Wars (1977)  4.358491                      583\n",
      "3     Empire Strikes Back, The (1980)  4.204360                      367\n",
      "4                 Blade Runner (1982)  4.138182                      275\n",
      "5                        Alien (1979)  4.034364                      291\n",
      "6           Return of the Jedi (1983)  4.007890                      507\n",
      "7   Terminator 2: Judgment Day (1991)  4.006780                      295\n",
      "8        2001: A Space Odyssey (1968)  3.969112                      259\n",
      "9                       Aliens (1986)  3.947183                      284\n",
      "11             Terminator, The (1984)  3.933555                      301\n",
      "15          Back to the Future (1985)  3.834286                      350\n",
      "16  E.T. the Extra-Terrestrial (1982)  3.833333                      300\n",
      "19                     Contact (1997)  3.803536                      509\n",
      "20              Twelve Monkeys (1995)  3.798469                      392\n",
      "23                Men in Black (1997)  3.745875                      303\n",
      "24               Jurassic Park (1993)  3.720307                      261\n",
      "25    Star Trek: First Contact (1996)  3.660274                      365\n",
      "****************************     ******************************     ******************************\n",
      "                             \n",
      "                             \n",
      "****************************     ******************************     ******************************\n",
      "****************************     ****** GENRE:  Thriller  ******     ******************************\n",
      "    \n"
     ]
    },
    {
     "data": {
      "image/png": "[encoded data removed]",
      "text/plain": [
       "<Figure size 720x432 with 1 Axes>"
      ]
     },
     "metadata": {
      "needs_background": "light"
     },
     "output_type": "display_data"
    },
    {
     "name": "stdout",
     "output_type": "stream",
     "text": [
      "Total number of users watched this Genre:  21872\n",
      "  \n",
      "These are the top movies that can be naviely suggested to the new users for the requested movie genre: Thriller . Recommendations based on top average ratings.\n",
      "                                           rating\n",
      "movie title                                      \n",
      "Close Shave, A (1995)                    4.491071\n",
      "Rear Window (1954)                       4.387560\n",
      "Usual Suspects, The (1995)               4.385768\n",
      "Third Man, The (1949)                    4.333333\n",
      "Some Folks Call It a Sling Blade (1993)  4.292683\n",
      "Silence of the Lambs, The (1991)         4.289744\n",
      "North by Northwest (1959)                4.284916\n",
      "Manchurian Candidate, The (1962)         4.259542\n",
      "Vertigo (1958)                           4.251397\n",
      "Innocents, The (1961)                    4.250000\n",
      "****************************     ******************************     ******************************\n",
      "These are the most popular movies which can be recommended to a new user in Thriller genre. Recommendations based on Popularity\n",
      "                         movie title  Number of Users watched\n",
      "0                       Fargo (1996)                      508\n",
      "1                      Scream (1996)                      478\n",
      "2               Air Force One (1997)                      431\n",
      "3   Silence of the Lambs, The (1991)                      390\n",
      "4                   Rock, The (1996)                      378\n",
      "5               Fugitive, The (1993)                      336\n",
      "6                  Saint, The (1997)                      316\n",
      "7             Terminator, The (1984)                      301\n",
      "8           L.A. Confidential (1997)                      297\n",
      "9  Terminator 2: Judgment Day (1991)                      295\n",
      "****************************     ******************************     ******************************\n",
      "These movies are the best to suggest to a new user within their requested genre as they are popular and well rated by the users who already watched them.\n",
      "These have rating more than  3.5  with atleast  250  viewers.\n",
      "**Recommendations based popularity and rating. These are top rated popular movies**\n",
      "                          movie title    rating  Number of Users watched\n",
      "2          Usual Suspects, The (1995)  4.385768                      267\n",
      "5    Silence of the Lambs, The (1991)  4.289744                      390\n",
      "11           L.A. Confidential (1997)  4.161616                      297\n",
      "12                       Fargo (1996)  4.155512                      508\n",
      "20               Fugitive, The (1993)  4.044643                      336\n",
      "21                       Alien (1979)  4.034364                      291\n",
      "24  Terminator 2: Judgment Day (1991)  4.006780                      295\n",
      "34       2001: A Space Odyssey (1968)  3.969112                      259\n",
      "36                      Aliens (1986)  3.947183                      284\n",
      "37             Terminator, The (1984)  3.933555                      301\n",
      "39                   Apollo 13 (1995)  3.931159                      276\n",
      "54                   Rock, The (1996)  3.693122                      378\n",
      "58                      Ransom (1996)  3.644195                      267\n",
      "59               Air Force One (1997)  3.631090                      431\n",
      "65                   Game, The (1997)  3.593625                      251\n",
      "****************************     ******************************     ******************************\n",
      "                             \n",
      "                             \n",
      "****************************     ******************************     ******************************\n",
      "****************************     ****** GENRE:  War  ******     ******************************\n",
      "    \n"
     ]
    },
    {
     "data": {
      "image/png": "[encoded data removed]",
      "text/plain": [
       "<Figure size 720x432 with 1 Axes>"
      ]
     },
     "metadata": {
      "needs_background": "light"
     },
     "output_type": "display_data"
    },
    {
     "name": "stdout",
     "output_type": "stream",
     "text": [
      "Total number of users watched this Genre:  9398\n",
      "  \n",
      "These are the top movies that can be naviely suggested to the new users for the requested movie genre: War . Recommendations based on top average ratings.\n",
      "                                                      rating\n",
      "movie title                                                 \n",
      "Schindler's List (1993)                             4.466443\n",
      "Casablanca (1942)                                   4.456790\n",
      "Star Wars (1977)                                    4.358491\n",
      "Dr. Strangelove or: How I Learned to Stop Worry...  4.252577\n",
      "Lawrence of Arabia (1962)                           4.231214\n",
      "Paths of Glory (1957)                               4.212121\n",
      "Empire Strikes Back, The (1980)                     4.204360\n",
      "Boot, Das (1981)                                    4.203980\n",
      "African Queen, The (1951)                           4.184211\n",
      "Bridge on the River Kwai, The (1957)                4.175758\n",
      "****************************     ******************************     ******************************\n",
      "These are the most popular movies which can be recommended to a new user in War genre. Recommendations based on Popularity\n",
      "                       movie title  Number of Users watched\n",
      "0                 Star Wars (1977)                      583\n",
      "1        Return of the Jedi (1983)                      507\n",
      "2      English Patient, The (1996)                      481\n",
      "3    Independence Day (ID4) (1996)                      429\n",
      "4  Empire Strikes Back, The (1980)                      367\n",
      "5              Forrest Gump (1994)                      321\n",
      "6          Schindler's List (1993)                      298\n",
      "7                Braveheart (1995)                      297\n",
      "8                    Aliens (1986)                      284\n",
      "9                Casablanca (1942)                      243\n",
      "****************************     ******************************     ******************************\n",
      "These movies are the best to suggest to a new user within their requested genre as they are popular and well rated by the users who already watched them.\n",
      "These have rating more than  3.5  with atleast  200  viewers.\n",
      "**Recommendations based popularity and rating. These are top rated popular movies**\n",
      "                        movie title    rating  Number of Users watched\n",
      "0           Schindler's List (1993)  4.466443                      298\n",
      "1                 Casablanca (1942)  4.456790                      243\n",
      "2                  Star Wars (1977)  4.358491                      583\n",
      "6   Empire Strikes Back, The (1980)  4.204360                      367\n",
      "7                  Boot, Das (1981)  4.203980                      201\n",
      "10                Braveheart (1995)  4.151515                      297\n",
      "16            Apocalypse Now (1979)  4.045249                      221\n",
      "17        Return of the Jedi (1983)  4.007890                      507\n",
      "21                    Aliens (1986)  3.947183                      284\n",
      "22                   M*A*S*H (1970)  3.912621                      206\n",
      "24              Forrest Gump (1994)  3.853583                      321\n",
      "32      English Patient, The (1996)  3.656965                      481\n",
      "36        Courage Under Fire (1996)  3.610860                      221\n",
      "****************************     ******************************     ******************************\n",
      "                             \n",
      "                             \n",
      "****************************     ******************************     ******************************\n",
      "****************************     ****** GENRE:  Western  ******     ******************************\n",
      "    \n"
     ]
    },
    {
     "data": {
      "image/png": "[encoded data removed]",
      "text/plain": [
       "<Figure size 720x432 with 1 Axes>"
      ]
     },
     "metadata": {
      "needs_background": "light"
     },
     "output_type": "display_data"
    },
    {
     "name": "stdout",
     "output_type": "stream",
     "text": [
      "Total number of users watched this Genre:  1854\n",
      "  \n",
      "These are the top movies that can be naviely suggested to the new users for the requested movie genre: Western . Recommendations based on top average ratings.\n",
      "                                             rating\n",
      "movie title                                        \n",
      "High Noon (1952)                           4.102273\n",
      "Wild Bunch, The (1969)                     4.023256\n",
      "Butch Cassidy and the Sundance Kid (1969)  3.949074\n",
      "Magnificent Seven, The (1954)              3.942149\n",
      "Once Upon a Time in the West (1969)        3.868421\n",
      "Unforgiven (1992)                          3.868132\n",
      "Good, The Bad and The Ugly, The (1966)     3.861314\n",
      "Dead Man (1995)                            3.823529\n",
      "Dances with Wolves (1990)                  3.792969\n",
      "Tombstone (1993)                           3.666667\n",
      "****************************     ******************************     ******************************\n",
      "These are the most popular movies which can be recommended to a new user in Western genre. Recommendations based on Popularity\n",
      "                                 movie title  Number of Users watched\n",
      "0                  Dances with Wolves (1990)                      256\n",
      "1  Butch Cassidy and the Sundance Kid (1969)                      216\n",
      "2                          Unforgiven (1992)                      182\n",
      "3     Good, The Bad and The Ugly, The (1966)                      137\n",
      "4                            Maverick (1994)                      128\n",
      "5              Magnificent Seven, The (1954)                      121\n",
      "6                           Tombstone (1993)                      108\n",
      "7                          Young Guns (1988)                      101\n",
      "8                           High Noon (1952)                       88\n",
      "9                 Legends of the Fall (1994)                       81\n",
      "****************************     ******************************     ******************************\n",
      "These movies are the best to suggest to a new user within their requested genre as they are popular and well rated by the users who already watched them.\n",
      "These have rating more than  2.0  with atleast  50  viewers.\n",
      "**Recommendations based popularity and rating. These are top rated popular movies**\n",
      "                                  movie title    rating  \\\n",
      "0                            High Noon (1952)  4.102273   \n",
      "2   Butch Cassidy and the Sundance Kid (1969)  3.949074   \n",
      "3               Magnificent Seven, The (1954)  3.942149   \n",
      "5                           Unforgiven (1992)  3.868132   \n",
      "6      Good, The Bad and The Ugly, The (1966)  3.861314   \n",
      "8                   Dances with Wolves (1990)  3.792969   \n",
      "9                            Tombstone (1993)  3.666667   \n",
      "10                            Maverick (1994)  3.468750   \n",
      "11                 Legends of the Fall (1994)  3.456790   \n",
      "13                          Young Guns (1988)  3.207921   \n",
      "21                   Last Man Standing (1996)  2.660377   \n",
      "\n",
      "    Number of Users watched  \n",
      "0                        88  \n",
      "2                       216  \n",
      "3                       121  \n",
      "5                       182  \n",
      "6                       137  \n",
      "8                       256  \n",
      "9                       108  \n",
      "10                      128  \n",
      "11                       81  \n",
      "13                      101  \n",
      "21                       53  \n",
      "****************************     ******************************     ******************************\n",
      "                             \n",
      "                             \n"
     ]
    }
   ],
   "source": [
    "for i in movie_genre_list[1:]:\n",
    "  recommendations_genre(i)"
   ]
  },
  {
   "cell_type": "code",
   "execution_count": 70,
   "metadata": {},
   "outputs": [],
   "source": [
    "scores=np.load('movie scores.npy')"
   ]
  },
  {
   "cell_type": "code",
   "execution_count": 71,
   "metadata": {},
   "outputs": [
    {
     "data": {
      "text/plain": [
       "array([0.225, 0.127, 0.   , ..., 0.184, 0.   , 0.   ])"
      ]
     },
     "execution_count": 71,
     "metadata": {},
     "output_type": "execute_result"
    }
   ],
   "source": [
    "scores"
   ]
  },
  {
   "cell_type": "code",
   "execution_count": 73,
   "metadata": {},
   "outputs": [],
   "source": [
    "df_movie['Sentiment Scores'] = scores"
   ]
  },
  {
   "cell_type": "code",
   "execution_count": 74,
   "metadata": {},
   "outputs": [
    {
     "data": {
      "text/html": [
       "<div>\n",
       "<style scoped>\n",
       "    .dataframe tbody tr th:only-of-type {\n",
       "        vertical-align: middle;\n",
       "    }\n",
       "\n",
       "    .dataframe tbody tr th {\n",
       "        vertical-align: top;\n",
       "    }\n",
       "\n",
       "    .dataframe thead th {\n",
       "        text-align: right;\n",
       "    }\n",
       "</style>\n",
       "<table border=\"1\" class=\"dataframe\">\n",
       "  <thead>\n",
       "    <tr style=\"text-align: right;\">\n",
       "      <th></th>\n",
       "      <th>movie id</th>\n",
       "      <th>movie title</th>\n",
       "      <th>release date</th>\n",
       "      <th>video release date</th>\n",
       "      <th>IMDb URL</th>\n",
       "      <th>unknown</th>\n",
       "      <th>Action</th>\n",
       "      <th>Adventure</th>\n",
       "      <th>Animation</th>\n",
       "      <th>Childrens</th>\n",
       "      <th>...</th>\n",
       "      <th>Film-Noir</th>\n",
       "      <th>Horror</th>\n",
       "      <th>Musical</th>\n",
       "      <th>Mystery</th>\n",
       "      <th>Romance</th>\n",
       "      <th>Sci-Fi</th>\n",
       "      <th>Thriller</th>\n",
       "      <th>War</th>\n",
       "      <th>Western</th>\n",
       "      <th>Sentiment Scores</th>\n",
       "    </tr>\n",
       "  </thead>\n",
       "  <tbody>\n",
       "    <tr>\n",
       "      <th>0</th>\n",
       "      <td>1</td>\n",
       "      <td>Toy Story (1995)</td>\n",
       "      <td>01-Jan-1995</td>\n",
       "      <td>NaN</td>\n",
       "      <td>http://us.imdb.com/M/title-exact?Toy%20Story%2...</td>\n",
       "      <td>0</td>\n",
       "      <td>0</td>\n",
       "      <td>0</td>\n",
       "      <td>1</td>\n",
       "      <td>1</td>\n",
       "      <td>...</td>\n",
       "      <td>0</td>\n",
       "      <td>0</td>\n",
       "      <td>0</td>\n",
       "      <td>0</td>\n",
       "      <td>0</td>\n",
       "      <td>0</td>\n",
       "      <td>0</td>\n",
       "      <td>0</td>\n",
       "      <td>0</td>\n",
       "      <td>0.225</td>\n",
       "    </tr>\n",
       "    <tr>\n",
       "      <th>1</th>\n",
       "      <td>2</td>\n",
       "      <td>GoldenEye (1995)</td>\n",
       "      <td>01-Jan-1995</td>\n",
       "      <td>NaN</td>\n",
       "      <td>http://us.imdb.com/M/title-exact?GoldenEye%20(...</td>\n",
       "      <td>0</td>\n",
       "      <td>1</td>\n",
       "      <td>1</td>\n",
       "      <td>0</td>\n",
       "      <td>0</td>\n",
       "      <td>...</td>\n",
       "      <td>0</td>\n",
       "      <td>0</td>\n",
       "      <td>0</td>\n",
       "      <td>0</td>\n",
       "      <td>0</td>\n",
       "      <td>0</td>\n",
       "      <td>1</td>\n",
       "      <td>0</td>\n",
       "      <td>0</td>\n",
       "      <td>0.127</td>\n",
       "    </tr>\n",
       "    <tr>\n",
       "      <th>2</th>\n",
       "      <td>3</td>\n",
       "      <td>Four Rooms (1995)</td>\n",
       "      <td>01-Jan-1995</td>\n",
       "      <td>NaN</td>\n",
       "      <td>http://us.imdb.com/M/title-exact?Four%20Rooms%...</td>\n",
       "      <td>0</td>\n",
       "      <td>0</td>\n",
       "      <td>0</td>\n",
       "      <td>0</td>\n",
       "      <td>0</td>\n",
       "      <td>...</td>\n",
       "      <td>0</td>\n",
       "      <td>0</td>\n",
       "      <td>0</td>\n",
       "      <td>0</td>\n",
       "      <td>0</td>\n",
       "      <td>0</td>\n",
       "      <td>1</td>\n",
       "      <td>0</td>\n",
       "      <td>0</td>\n",
       "      <td>0.000</td>\n",
       "    </tr>\n",
       "    <tr>\n",
       "      <th>3</th>\n",
       "      <td>4</td>\n",
       "      <td>Get Shorty (1995)</td>\n",
       "      <td>01-Jan-1995</td>\n",
       "      <td>NaN</td>\n",
       "      <td>http://us.imdb.com/M/title-exact?Get%20Shorty%...</td>\n",
       "      <td>0</td>\n",
       "      <td>1</td>\n",
       "      <td>0</td>\n",
       "      <td>0</td>\n",
       "      <td>0</td>\n",
       "      <td>...</td>\n",
       "      <td>0</td>\n",
       "      <td>0</td>\n",
       "      <td>0</td>\n",
       "      <td>0</td>\n",
       "      <td>0</td>\n",
       "      <td>0</td>\n",
       "      <td>0</td>\n",
       "      <td>0</td>\n",
       "      <td>0</td>\n",
       "      <td>0.360</td>\n",
       "    </tr>\n",
       "    <tr>\n",
       "      <th>4</th>\n",
       "      <td>5</td>\n",
       "      <td>Copycat (1995)</td>\n",
       "      <td>01-Jan-1995</td>\n",
       "      <td>NaN</td>\n",
       "      <td>http://us.imdb.com/M/title-exact?Copycat%20(1995)</td>\n",
       "      <td>0</td>\n",
       "      <td>0</td>\n",
       "      <td>0</td>\n",
       "      <td>0</td>\n",
       "      <td>0</td>\n",
       "      <td>...</td>\n",
       "      <td>0</td>\n",
       "      <td>0</td>\n",
       "      <td>0</td>\n",
       "      <td>0</td>\n",
       "      <td>0</td>\n",
       "      <td>0</td>\n",
       "      <td>1</td>\n",
       "      <td>0</td>\n",
       "      <td>0</td>\n",
       "      <td>0.089</td>\n",
       "    </tr>\n",
       "  </tbody>\n",
       "</table>\n",
       "<p>5 rows × 25 columns</p>\n",
       "</div>"
      ],
      "text/plain": [
       "   movie id        movie title release date  video release date  \\\n",
       "0         1   Toy Story (1995)  01-Jan-1995                 NaN   \n",
       "1         2   GoldenEye (1995)  01-Jan-1995                 NaN   \n",
       "2         3  Four Rooms (1995)  01-Jan-1995                 NaN   \n",
       "3         4  Get Shorty (1995)  01-Jan-1995                 NaN   \n",
       "4         5     Copycat (1995)  01-Jan-1995                 NaN   \n",
       "\n",
       "                                            IMDb URL  unknown  Action  \\\n",
       "0  http://us.imdb.com/M/title-exact?Toy%20Story%2...        0       0   \n",
       "1  http://us.imdb.com/M/title-exact?GoldenEye%20(...        0       1   \n",
       "2  http://us.imdb.com/M/title-exact?Four%20Rooms%...        0       0   \n",
       "3  http://us.imdb.com/M/title-exact?Get%20Shorty%...        0       1   \n",
       "4  http://us.imdb.com/M/title-exact?Copycat%20(1995)        0       0   \n",
       "\n",
       "   Adventure  Animation  Childrens  ...  Film-Noir  Horror  Musical  Mystery  \\\n",
       "0          0          1          1  ...          0       0        0        0   \n",
       "1          1          0          0  ...          0       0        0        0   \n",
       "2          0          0          0  ...          0       0        0        0   \n",
       "3          0          0          0  ...          0       0        0        0   \n",
       "4          0          0          0  ...          0       0        0        0   \n",
       "\n",
       "   Romance  Sci-Fi  Thriller  War  Western  Sentiment Scores  \n",
       "0        0       0         0    0        0             0.225  \n",
       "1        0       0         1    0        0             0.127  \n",
       "2        0       0         1    0        0             0.000  \n",
       "3        0       0         0    0        0             0.360  \n",
       "4        0       0         1    0        0             0.089  \n",
       "\n",
       "[5 rows x 25 columns]"
      ]
     },
     "execution_count": 74,
     "metadata": {},
     "output_type": "execute_result"
    }
   ],
   "source": [
    "df_movie.head(5)"
   ]
  },
  {
   "cell_type": "code",
   "execution_count": 75,
   "metadata": {},
   "outputs": [],
   "source": [
    "movie_scores = df_movie[['movie id','Sentiment Scores']]"
   ]
  },
  {
   "cell_type": "code",
   "execution_count": 76,
   "metadata": {},
   "outputs": [
    {
     "data": {
      "text/html": [
       "<div>\n",
       "<style scoped>\n",
       "    .dataframe tbody tr th:only-of-type {\n",
       "        vertical-align: middle;\n",
       "    }\n",
       "\n",
       "    .dataframe tbody tr th {\n",
       "        vertical-align: top;\n",
       "    }\n",
       "\n",
       "    .dataframe thead th {\n",
       "        text-align: right;\n",
       "    }\n",
       "</style>\n",
       "<table border=\"1\" class=\"dataframe\">\n",
       "  <thead>\n",
       "    <tr style=\"text-align: right;\">\n",
       "      <th></th>\n",
       "      <th>user id</th>\n",
       "      <th>movie id</th>\n",
       "      <th>rating</th>\n",
       "      <th>Timestamp</th>\n",
       "      <th>movie title</th>\n",
       "      <th>Sentiment Scores</th>\n",
       "    </tr>\n",
       "  </thead>\n",
       "  <tbody>\n",
       "    <tr>\n",
       "      <th>0</th>\n",
       "      <td>196</td>\n",
       "      <td>242</td>\n",
       "      <td>3</td>\n",
       "      <td>881250949</td>\n",
       "      <td>Kolya (1996)</td>\n",
       "      <td>0.1</td>\n",
       "    </tr>\n",
       "    <tr>\n",
       "      <th>1</th>\n",
       "      <td>63</td>\n",
       "      <td>242</td>\n",
       "      <td>3</td>\n",
       "      <td>875747190</td>\n",
       "      <td>Kolya (1996)</td>\n",
       "      <td>0.1</td>\n",
       "    </tr>\n",
       "    <tr>\n",
       "      <th>2</th>\n",
       "      <td>226</td>\n",
       "      <td>242</td>\n",
       "      <td>5</td>\n",
       "      <td>883888671</td>\n",
       "      <td>Kolya (1996)</td>\n",
       "      <td>0.1</td>\n",
       "    </tr>\n",
       "    <tr>\n",
       "      <th>3</th>\n",
       "      <td>154</td>\n",
       "      <td>242</td>\n",
       "      <td>3</td>\n",
       "      <td>879138235</td>\n",
       "      <td>Kolya (1996)</td>\n",
       "      <td>0.1</td>\n",
       "    </tr>\n",
       "    <tr>\n",
       "      <th>4</th>\n",
       "      <td>306</td>\n",
       "      <td>242</td>\n",
       "      <td>5</td>\n",
       "      <td>876503793</td>\n",
       "      <td>Kolya (1996)</td>\n",
       "      <td>0.1</td>\n",
       "    </tr>\n",
       "  </tbody>\n",
       "</table>\n",
       "</div>"
      ],
      "text/plain": [
       "   user id  movie id  rating  Timestamp   movie title  Sentiment Scores\n",
       "0      196       242       3  881250949  Kolya (1996)               0.1\n",
       "1       63       242       3  875747190  Kolya (1996)               0.1\n",
       "2      226       242       5  883888671  Kolya (1996)               0.1\n",
       "3      154       242       3  879138235  Kolya (1996)               0.1\n",
       "4      306       242       5  876503793  Kolya (1996)               0.1"
      ]
     },
     "execution_count": 76,
     "metadata": {},
     "output_type": "execute_result"
    }
   ],
   "source": [
    "merged_dataset2 = pd.merge(merged_dataset,movie_scores, how='inner',on='movie id')\n",
    "merged_dataset2.head()"
   ]
  },
  {
   "cell_type": "code",
   "execution_count": 82,
   "metadata": {},
   "outputs": [],
   "source": [
    "df_movie2 = df_movie[['movie title','Sentiment Scores']]"
   ]
  },
  {
   "cell_type": "code",
   "execution_count": 86,
   "metadata": {},
   "outputs": [
    {
     "data": {
      "text/html": [
       "<div>\n",
       "<style scoped>\n",
       "    .dataframe tbody tr th:only-of-type {\n",
       "        vertical-align: middle;\n",
       "    }\n",
       "\n",
       "    .dataframe tbody tr th {\n",
       "        vertical-align: top;\n",
       "    }\n",
       "\n",
       "    .dataframe thead th {\n",
       "        text-align: right;\n",
       "    }\n",
       "</style>\n",
       "<table border=\"1\" class=\"dataframe\">\n",
       "  <thead>\n",
       "    <tr style=\"text-align: right;\">\n",
       "      <th></th>\n",
       "      <th>movie title</th>\n",
       "      <th>Sentiment Scores</th>\n",
       "    </tr>\n",
       "  </thead>\n",
       "  <tbody>\n",
       "    <tr>\n",
       "      <th>188</th>\n",
       "      <td>Grand Day Out, A (1992)</td>\n",
       "      <td>1.000</td>\n",
       "    </tr>\n",
       "    <tr>\n",
       "      <th>1298</th>\n",
       "      <td>Penny Serenade (1941)</td>\n",
       "      <td>1.000</td>\n",
       "    </tr>\n",
       "    <tr>\n",
       "      <th>254</th>\n",
       "      <td>My Best Friend's Wedding (1997)</td>\n",
       "      <td>1.000</td>\n",
       "    </tr>\n",
       "    <tr>\n",
       "      <th>687</th>\n",
       "      <td>Leave It to Beaver (1997)</td>\n",
       "      <td>0.895</td>\n",
       "    </tr>\n",
       "    <tr>\n",
       "      <th>1176</th>\n",
       "      <td>Dunston Checks In (1996)</td>\n",
       "      <td>0.833</td>\n",
       "    </tr>\n",
       "    <tr>\n",
       "      <th>623</th>\n",
       "      <td>Three Caballeros, The (1945)</td>\n",
       "      <td>0.825</td>\n",
       "    </tr>\n",
       "    <tr>\n",
       "      <th>304</th>\n",
       "      <td>Ice Storm, The (1997)</td>\n",
       "      <td>0.800</td>\n",
       "    </tr>\n",
       "    <tr>\n",
       "      <th>1160</th>\n",
       "      <td>Palookaville (1996)</td>\n",
       "      <td>0.800</td>\n",
       "    </tr>\n",
       "    <tr>\n",
       "      <th>1181</th>\n",
       "      <td>Cops and Robbersons (1994)</td>\n",
       "      <td>0.800</td>\n",
       "    </tr>\n",
       "    <tr>\n",
       "      <th>864</th>\n",
       "      <td>Ice Storm, The (1997)</td>\n",
       "      <td>0.800</td>\n",
       "    </tr>\n",
       "  </tbody>\n",
       "</table>\n",
       "</div>"
      ],
      "text/plain": [
       "                          movie title  Sentiment Scores\n",
       "188           Grand Day Out, A (1992)             1.000\n",
       "1298            Penny Serenade (1941)             1.000\n",
       "254   My Best Friend's Wedding (1997)             1.000\n",
       "687         Leave It to Beaver (1997)             0.895\n",
       "1176         Dunston Checks In (1996)             0.833\n",
       "623      Three Caballeros, The (1945)             0.825\n",
       "304             Ice Storm, The (1997)             0.800\n",
       "1160              Palookaville (1996)             0.800\n",
       "1181       Cops and Robbersons (1994)             0.800\n",
       "864             Ice Storm, The (1997)             0.800"
      ]
     },
     "execution_count": 86,
     "metadata": {},
     "output_type": "execute_result"
    }
   ],
   "source": [
    "df_movie2.sort_values(by='Sentiment Scores', ascending=False)[:10]"
   ]
  },
  {
   "cell_type": "code",
   "execution_count": null,
   "metadata": {},
   "outputs": [],
   "source": []
  }
 ],
 "metadata": {
  "interpreter": {
   "hash": "a25b2d42e0fe57251b6ece2b75d30429fe26895efea1faac6949f166a7477be7"
  },
  "kernelspec": {
   "display_name": "Python 3.10.2 64-bit",
   "language": "python",
   "name": "python3"
  },
  "language_info": {
   "codemirror_mode": {
    "name": "ipython",
    "version": 3
   },
   "file_extension": ".py",
   "mimetype": "text/x-python",
   "name": "python",
   "nbconvert_exporter": "python",
   "pygments_lexer": "ipython3",
   "version": "3.10.2"
  },
  "orig_nbformat": 4
 },
 "nbformat": 4,
 "nbformat_minor": 2
}
